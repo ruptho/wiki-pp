{
 "cells": [
  {
   "cell_type": "code",
   "execution_count": 1,
   "metadata": {},
   "outputs": [],
   "source": [
    "%load_ext autoreload\n",
    "%autoreload 2"
   ]
  },
  {
   "cell_type": "code",
   "execution_count": 2,
   "metadata": {},
   "outputs": [],
   "source": [
    "import pandas as pd\n",
    "import numpy as np\n",
    "import seaborn as sns\n",
    "import matplotlib.pyplot as plt\n",
    "from scripts.retrieve_wmapi import retrieve_top_articles_by_pageviews, retrieve_edit_counts_edit_types_lang, retrieve_pageviews_aggregate,retrieve_edits_for_protected_articles_parallel, retrieve_pageviews_user_types_lang, retrieve_pageviews_for_protected_articles,retrieve_pageviews_for_protected_articles_parallel"
   ]
  },
  {
   "cell_type": "code",
   "execution_count": 3,
   "metadata": {},
   "outputs": [],
   "source": [
    "views_en_all = retrieve_pageviews_aggregate('en', 20220101, end=20230101)\n",
    "views_en_user = retrieve_pageviews_aggregate('en', 20220101, end=20230101, agent='user')\n",
    "views_top_pages = retrieve_top_articles_by_pageviews('en', 20220101, end=20230101, n_jobs=10)\n",
    "edits_en_all = retrieve_edit_counts_edit_types_lang('en', 20220101, end=20230101)"
   ]
  },
  {
   "cell_type": "code",
   "execution_count": 4,
   "metadata": {},
   "outputs": [],
   "source": [
    "df_redirects = pd.read_csv('data/supplementary/spell_redirects.zip')\n",
    "df_spells = pd.read_csv('data/protections/spells.csv.zip', parse_dates=['start', 'end', 'start_day', 'end_day'])\n",
    "\n",
    "# Fix time-constrained spells that are labeled incorrectly in the dataset\n",
    "df_spells.loc[df_spells.end < pd.to_datetime('2000-01-01', utc=True), 'end'] = df_spells.loc[df_spells.end < pd.to_datetime('2000-01-01', utc=True), 'end_day'] = pd.NaT\n",
    "\n",
    "df_spells_rel = df_spells[(df_spells.type=='edit')].copy()\n",
    "df_spells_rel_red = df_redirects[~pd.isna(df_redirects.redirect)].merge(df_spells_rel, on='title', how='left')\n",
    "df_spells_rel_red = df_spells_rel_red[~pd.isna(df_spells_rel_red.type)].drop(['title'], axis=1).rename({'redirect': 'title'}, axis=1)"
   ]
  },
  {
   "cell_type": "markdown",
   "metadata": {},
   "source": [
    "# read and vis"
   ]
  },
  {
   "cell_type": "code",
   "execution_count": 5,
   "metadata": {},
   "outputs": [],
   "source": [
    "from scripts.descriptive import plot_views, plot_views_with_percentage\n"
   ]
  },
  {
   "cell_type": "code",
   "execution_count": 6,
   "metadata": {},
   "outputs": [],
   "source": [
    "df_relspells = df_spells_rel_red[df_spells_rel_red.type=='edit'].copy()\n",
    "df_relspells.start.fillna(pd.to_datetime('2000-01-01', utc=True), inplace=True)\n",
    "df_relspells.start_day = df_relspells.start.dt.date\n",
    "df_relspells.end.fillna(pd.to_datetime('2025-01-01', utc=True), inplace=True)\n",
    "df_relspells.end_day = df_relspells.end.dt.date"
   ]
  },
  {
   "cell_type": "code",
   "execution_count": 7,
   "metadata": {},
   "outputs": [
    {
     "name": "stderr",
     "output_type": "stream",
     "text": [
      "/opt/conda/lib/python3.7/site-packages/IPython/core/interactiveshell.py:3552: DtypeWarning: Columns (3,4,5) have mixed types.Specify dtype option on import or set low_memory=False.\n",
      "  exec(code_obj, self.user_global_ns, self.user_ns)\n"
     ]
    }
   ],
   "source": [
    "df_protect_red = pd.read_csv('data/supplementary/views_protect_with_red_all.csv.zip')"
   ]
  },
  {
   "cell_type": "code",
   "execution_count": 8,
   "metadata": {},
   "outputs": [],
   "source": [
    "edits_en_sum = edits_en_all.groupby('date').edits.sum().reset_index()\n",
    "edits_en_sum['type'] = 'edits-all'"
   ]
  },
  {
   "cell_type": "code",
   "execution_count": 9,
   "metadata": {},
   "outputs": [],
   "source": [
    "def format_protected(df_p, value_col = 'views', type_name = 'views-protected'):\n",
    "    df_prot_unq = df_p.drop_duplicates(['date', 'article'])\n",
    "    df_prot_unq[value_col] = pd.to_numeric(df_prot_unq[value_col], errors='coerce')\n",
    "    df_prot_unq_ok = df_prot_unq[~pd.isna(df_prot_unq[value_col])].copy()\n",
    "    df_daily_prot = df_prot_unq_ok.groupby('date')[value_col].sum()\n",
    "    df_daily_prot = df_daily_prot.reset_index().rename({value_col: 'value'}, axis=1)\n",
    "    df_daily_prot.date = pd.to_datetime(df_daily_prot.date)\n",
    "    df_daily_prot['type'] = type_name\n",
    "    return df_daily_prot\n"
   ]
  },
  {
   "cell_type": "code",
   "execution_count": 10,
   "metadata": {},
   "outputs": [
    {
     "name": "stderr",
     "output_type": "stream",
     "text": [
      "/opt/conda/lib/python3.7/site-packages/ipykernel_launcher.py:3: SettingWithCopyWarning: \n",
      "A value is trying to be set on a copy of a slice from a DataFrame.\n",
      "Try using .loc[row_indexer,col_indexer] = value instead\n",
      "\n",
      "See the caveats in the documentation: https://pandas.pydata.org/pandas-docs/stable/user_guide/indexing.html#returning-a-view-versus-a-copy\n",
      "  This is separate from the ipykernel package so we can avoid doing imports until\n"
     ]
    }
   ],
   "source": [
    "\n",
    "df_daily_protviews = format_protected(df_protect_red)\n",
    "df_daily_protviews_22 = df_daily_protviews[df_daily_protviews.date.dt.year == 2022]\n"
   ]
  },
  {
   "cell_type": "code",
   "execution_count": 11,
   "metadata": {},
   "outputs": [],
   "source": [
    "views_en_all_22 = views_en_all[views_en_all.date.dt.year == 2022].copy()\n",
    "views_en_all_22['value'] = views_en_all_22['views']\n",
    "views_en_all_22.type = 'views-all'"
   ]
  },
  {
   "cell_type": "code",
   "execution_count": 12,
   "metadata": {},
   "outputs": [],
   "source": [
    "views_top_pages_22 = views_top_pages[~pd.isna(views_top_pages.date) & (views_top_pages.year == '2022')].copy()\n",
    "views_top_pages_22= views_top_pages_22[~views_top_pages_22.article.astype(str).str.contains('^(User|Talk|Template|Wikipedia|File|Portal|Wikipedia|MediaWiki|Module|Category|WP|Help|Draft|Special)(_[Tt]alk)?_?:')]\n",
    "views_top_pages_22['date'] = pd.to_datetime(views_top_pages_22.date, utc=True).dt.date\n",
    "df_daily_topviews = format_protected(views_top_pages_22, type_name='views-top')"
   ]
  },
  {
   "cell_type": "code",
   "execution_count": 13,
   "metadata": {},
   "outputs": [
    {
     "name": "stderr",
     "output_type": "stream",
     "text": [
      "/opt/conda/lib/python3.7/site-packages/ipykernel_launcher.py:3: SettingWithCopyWarning: \n",
      "A value is trying to be set on a copy of a slice from a DataFrame.\n",
      "Try using .loc[row_indexer,col_indexer] = value instead\n",
      "\n",
      "See the caveats in the documentation: https://pandas.pydata.org/pandas-docs/stable/user_guide/indexing.html#returning-a-view-versus-a-copy\n",
      "  This is separate from the ipykernel package so we can avoid doing imports until\n"
     ]
    }
   ],
   "source": [
    "views_top_with_spells = views_top_pages_22.merge(df_relspells, right_on='title', left_on='article', how='left')\n",
    "views_top_with_spells = views_top_with_spells[views_top_with_spells.date.between(views_top_with_spells.start_day, views_top_with_spells.end_day, inclusive='both')]\n",
    "df_daily_top_prot_views = format_protected(views_top_with_spells, type_name='views-top-protected')"
   ]
  },
  {
   "cell_type": "markdown",
   "metadata": {},
   "source": [
    "### Plot"
   ]
  },
  {
   "cell_type": "code",
   "execution_count": null,
   "metadata": {},
   "outputs": [],
   "source": [
    "import matplotlib.pyplot as plt\n",
    "from scripts.descriptive import plot_views_only_left\n",
    "from scripts.descriptive import plot_percentage_bar_pageviews\n"
   ]
  },
  {
   "cell_type": "code",
   "execution_count": 14,
   "metadata": {},
   "outputs": [],
   "source": [
    "sum_views_all = views_en_all_22.value.sum()\n",
    "sum_views_all_protected = df_daily_protviews_22.value.sum()\n",
    "sum_views_all_unprotected = sum_views_all - sum_views_all_protected\n",
    "sum_views_top = df_daily_topviews.value.sum()\n",
    "sum_views_top_protected = df_daily_top_prot_views.value.sum()\n",
    "sum_views_top_unprotected = sum_views_top - sum_views_top_protected"
   ]
  },
  {
   "cell_type": "code",
   "execution_count": 15,
   "metadata": {},
   "outputs": [
    {
     "data": {
      "text/html": [
       "<div>\n",
       "<style scoped>\n",
       "    .dataframe tbody tr th:only-of-type {\n",
       "        vertical-align: middle;\n",
       "    }\n",
       "\n",
       "    .dataframe tbody tr th {\n",
       "        vertical-align: top;\n",
       "    }\n",
       "\n",
       "    .dataframe thead th {\n",
       "        text-align: right;\n",
       "    }\n",
       "</style>\n",
       "<table border=\"1\" class=\"dataframe\">\n",
       "  <thead>\n",
       "    <tr style=\"text-align: right;\">\n",
       "      <th></th>\n",
       "      <th>Value</th>\n",
       "      <th>Percent</th>\n",
       "      <th>Article Type</th>\n",
       "      <th>Protection</th>\n",
       "    </tr>\n",
       "  </thead>\n",
       "  <tbody>\n",
       "    <tr>\n",
       "      <th>0</th>\n",
       "      <td>1.754330e+10</td>\n",
       "      <td>0.152841</td>\n",
       "      <td>All Article Views</td>\n",
       "      <td>Protected</td>\n",
       "    </tr>\n",
       "    <tr>\n",
       "      <th>1</th>\n",
       "      <td>9.723808e+10</td>\n",
       "      <td>0.847159</td>\n",
       "      <td>All Article Views</td>\n",
       "      <td>Unprotected</td>\n",
       "    </tr>\n",
       "    <tr>\n",
       "      <th>2</th>\n",
       "      <td>6.080611e+09</td>\n",
       "      <td>0.563736</td>\n",
       "      <td>Top-Article Views</td>\n",
       "      <td>Protected</td>\n",
       "    </tr>\n",
       "    <tr>\n",
       "      <th>3</th>\n",
       "      <td>4.705662e+09</td>\n",
       "      <td>0.436264</td>\n",
       "      <td>Top-Article Views</td>\n",
       "      <td>Unprotected</td>\n",
       "    </tr>\n",
       "  </tbody>\n",
       "</table>\n",
       "</div>"
      ],
      "text/plain": [
       "          Value   Percent       Article Type   Protection\n",
       "0  1.754330e+10  0.152841  All Article Views    Protected\n",
       "1  9.723808e+10  0.847159  All Article Views  Unprotected\n",
       "2  6.080611e+09  0.563736  Top-Article Views    Protected\n",
       "3  4.705662e+09  0.436264  Top-Article Views  Unprotected"
      ]
     },
     "execution_count": 15,
     "metadata": {},
     "output_type": "execute_result"
    }
   ],
   "source": [
    "df_barcharts = pd.DataFrame([\n",
    "    [sum_views_all_protected, sum_views_all_protected/sum_views_all, 'All Article Views', 'Protected'], \n",
    "    [sum_views_all_unprotected, sum_views_all_unprotected/sum_views_all, 'All Article Views', 'Unprotected'],\n",
    "    [sum_views_top_protected, sum_views_top_protected/sum_views_top, 'Top-Article Views', 'Protected'],\n",
    "    [sum_views_top_unprotected, sum_views_top_unprotected/sum_views_top, 'Top-Article Views', 'Unprotected']],\n",
    "    columns=['Value', 'Percent', 'Article Type', 'Protection'])\n",
    "df_barcharts_row = df_barcharts.pivot(index=\"Protection\", columns=['Article Type'], values=['Value', 'Percent'])"
   ]
  },
  {
   "cell_type": "code",
   "execution_count": 86,
   "metadata": {},
   "outputs": [
    {
     "name": "stdout",
     "output_type": "stream",
     "text": [
      "[0.152841   0.56373608]\n",
      "[0.847159   0.43626392]\n"
     ]
    },
    {
     "data": {
      "text/plain": [
       "<matplotlib.axes._subplots.AxesSubplot at 0x7fd6f5234d10>"
      ]
     },
     "execution_count": 86,
     "metadata": {},
     "output_type": "execute_result"
    },
    {
     "data": {
      "image/png": "[encoded data removed]",
      "text/plain": [
       "<Figure size 108x288 with 1 Axes>"
      ]
     },
     "metadata": {
      "needs_background": "light"
     },
     "output_type": "display_data"
    }
   ],
   "source": [
    "plot_percentage_bar_pageviews(sum_views_all_protected, sum_views_all, sum_views_top_protected, sum_views_top)"
   ]
  },
  {
   "cell_type": "code",
   "execution_count": 87,
   "metadata": {},
   "outputs": [
    {
     "data": {
      "text/html": [
       "<div>\n",
       "<style scoped>\n",
       "    .dataframe tbody tr th:only-of-type {\n",
       "        vertical-align: middle;\n",
       "    }\n",
       "\n",
       "    .dataframe tbody tr th {\n",
       "        vertical-align: top;\n",
       "    }\n",
       "\n",
       "    .dataframe thead th {\n",
       "        text-align: right;\n",
       "    }\n",
       "</style>\n",
       "<table border=\"1\" class=\"dataframe\">\n",
       "  <thead>\n",
       "    <tr style=\"text-align: right;\">\n",
       "      <th></th>\n",
       "      <th>date</th>\n",
       "      <th>views</th>\n",
       "      <th>type</th>\n",
       "      <th>value</th>\n",
       "      <th>protected</th>\n",
       "    </tr>\n",
       "  </thead>\n",
       "  <tbody>\n",
       "    <tr>\n",
       "      <th>0</th>\n",
       "      <td>2022-01-01</td>\n",
       "      <td>309400637.0</td>\n",
       "      <td>views-all</td>\n",
       "      <td>309400637.0</td>\n",
       "      <td>False</td>\n",
       "    </tr>\n",
       "    <tr>\n",
       "      <th>1</th>\n",
       "      <td>2022-01-02</td>\n",
       "      <td>323259792.0</td>\n",
       "      <td>views-all</td>\n",
       "      <td>323259792.0</td>\n",
       "      <td>False</td>\n",
       "    </tr>\n",
       "    <tr>\n",
       "      <th>2</th>\n",
       "      <td>2022-01-03</td>\n",
       "      <td>313272140.0</td>\n",
       "      <td>views-all</td>\n",
       "      <td>313272140.0</td>\n",
       "      <td>False</td>\n",
       "    </tr>\n",
       "    <tr>\n",
       "      <th>3</th>\n",
       "      <td>2022-01-04</td>\n",
       "      <td>301076635.0</td>\n",
       "      <td>views-all</td>\n",
       "      <td>301076635.0</td>\n",
       "      <td>False</td>\n",
       "    </tr>\n",
       "    <tr>\n",
       "      <th>4</th>\n",
       "      <td>2022-01-05</td>\n",
       "      <td>300782348.0</td>\n",
       "      <td>views-all</td>\n",
       "      <td>300782348.0</td>\n",
       "      <td>False</td>\n",
       "    </tr>\n",
       "    <tr>\n",
       "      <th>...</th>\n",
       "      <td>...</td>\n",
       "      <td>...</td>\n",
       "      <td>...</td>\n",
       "      <td>...</td>\n",
       "      <td>...</td>\n",
       "    </tr>\n",
       "    <tr>\n",
       "      <th>360</th>\n",
       "      <td>2022-12-27</td>\n",
       "      <td>NaN</td>\n",
       "      <td>views-top-protected</td>\n",
       "      <td>17179430.0</td>\n",
       "      <td>True</td>\n",
       "    </tr>\n",
       "    <tr>\n",
       "      <th>361</th>\n",
       "      <td>2022-12-28</td>\n",
       "      <td>NaN</td>\n",
       "      <td>views-top-protected</td>\n",
       "      <td>15402268.0</td>\n",
       "      <td>True</td>\n",
       "    </tr>\n",
       "    <tr>\n",
       "      <th>362</th>\n",
       "      <td>2022-12-29</td>\n",
       "      <td>NaN</td>\n",
       "      <td>views-top-protected</td>\n",
       "      <td>16658999.0</td>\n",
       "      <td>True</td>\n",
       "    </tr>\n",
       "    <tr>\n",
       "      <th>363</th>\n",
       "      <td>2022-12-30</td>\n",
       "      <td>NaN</td>\n",
       "      <td>views-top-protected</td>\n",
       "      <td>19351997.0</td>\n",
       "      <td>True</td>\n",
       "    </tr>\n",
       "    <tr>\n",
       "      <th>364</th>\n",
       "      <td>2022-12-31</td>\n",
       "      <td>NaN</td>\n",
       "      <td>views-top-protected</td>\n",
       "      <td>18558926.0</td>\n",
       "      <td>True</td>\n",
       "    </tr>\n",
       "  </tbody>\n",
       "</table>\n",
       "<p>1460 rows × 5 columns</p>\n",
       "</div>"
      ],
      "text/plain": [
       "          date        views                 type        value  protected\n",
       "0   2022-01-01  309400637.0            views-all  309400637.0      False\n",
       "1   2022-01-02  323259792.0            views-all  323259792.0      False\n",
       "2   2022-01-03  313272140.0            views-all  313272140.0      False\n",
       "3   2022-01-04  301076635.0            views-all  301076635.0      False\n",
       "4   2022-01-05  300782348.0            views-all  300782348.0      False\n",
       "..         ...          ...                  ...          ...        ...\n",
       "360 2022-12-27          NaN  views-top-protected   17179430.0       True\n",
       "361 2022-12-28          NaN  views-top-protected   15402268.0       True\n",
       "362 2022-12-29          NaN  views-top-protected   16658999.0       True\n",
       "363 2022-12-30          NaN  views-top-protected   19351997.0       True\n",
       "364 2022-12-31          NaN  views-top-protected   18558926.0       True\n",
       "\n",
       "[1460 rows x 5 columns]"
      ]
     },
     "execution_count": 87,
     "metadata": {},
     "output_type": "execute_result"
    },
    {
     "data": {
      "image/png": "[encoded data removed]",
      "text/plain": [
       "<Figure size 432x288 with 1 Axes>"
      ]
     },
     "metadata": {
      "needs_background": "light"
     },
     "output_type": "display_data"
    }
   ],
   "source": [
    "plot_views_only_left(views_en_all_22, df_daily_protviews_22, df_daily_topviews, df_daily_top_prot_views)"
   ]
  }
 ],
 "metadata": {
  "kernelspec": {
   "display_name": "Python 3",
   "language": "python",
   "name": "python3"
  },
  "language_info": {
   "codemirror_mode": {
    "name": "ipython",
    "version": 3
   },
   "file_extension": ".py",
   "mimetype": "text/x-python",
   "name": "python",
   "nbconvert_exporter": "python",
   "pygments_lexer": "ipython3",
   "version": "3.7.12"
  }
 },
 "nbformat": 4,
 "nbformat_minor": 5
}
