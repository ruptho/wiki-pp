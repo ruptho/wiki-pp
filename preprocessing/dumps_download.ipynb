{
 "cells": [
  {
   "cell_type": "code",
   "execution_count": 1,
   "metadata": {},
   "outputs": [],
   "source": [
    "import wget\n",
    "from config import CODES, DUMPS_PATH\n",
    "from logger import Logger\n",
    "from pathlib import Path"
   ]
  },
  {
   "cell_type": "code",
   "execution_count": 2,
   "metadata": {},
   "outputs": [],
   "source": [
    "# Configure to the dump you want to download\n",
    "DUMP_URL=f'https://dumps.wikimedia.org/other/mediawiki_history'\n",
    "DUMP_VERSION = '2023-02'\n",
    "DUMP_FE = 'tsv.bz2'\n",
    "YEARS = list(range(2022, 2023))\n",
    "\n",
    "# create dir if not existent\n",
    "Path(f'{DUMPS_PATH}').mkdir(parents=True, exist_ok=True)"
   ]
  },
  {
   "cell_type": "code",
   "execution_count": 13,
   "metadata": {},
   "outputs": [
    {
     "name": "stderr",
     "output_type": "stream",
     "text": [
      "04-05 08:18 : INFO : Processing en...\n",
      "04-05 08:18 : INFO : Download https://dumps.wikimedia.org/other/mediawiki_history/2023-02/enwiki/2023-02.enwiki.all-time.tsv.bz2...\n",
      "04-05 08:18 : INFO : ERROR - PROBABLY EXPECTED: No all-times file for en.\n",
      "04-05 08:18 : INFO : Download https://dumps.wikimedia.org/other/mediawiki_history/2023-02/enwiki/2023-02.enwiki.2022-01.tsv.bz2...\n",
      "04-05 08:20 : INFO : Download https://dumps.wikimedia.org/other/mediawiki_history/2023-02/enwiki/2023-02.enwiki.2022-02.tsv.bz2...\n",
      "04-05 08:23 : INFO : Download https://dumps.wikimedia.org/other/mediawiki_history/2023-02/enwiki/2023-02.enwiki.2022-03.tsv.bz2...\n",
      "04-05 08:25 : INFO : Download https://dumps.wikimedia.org/other/mediawiki_history/2023-02/enwiki/2023-02.enwiki.2022-04.tsv.bz2...\n",
      "04-05 08:27 : INFO : Download https://dumps.wikimedia.org/other/mediawiki_history/2023-02/enwiki/2023-02.enwiki.2022-05.tsv.bz2...\n",
      "04-05 08:30 : INFO : Download https://dumps.wikimedia.org/other/mediawiki_history/2023-02/enwiki/2023-02.enwiki.2022-06.tsv.bz2...\n",
      "04-05 08:31 : INFO : Download https://dumps.wikimedia.org/other/mediawiki_history/2023-02/enwiki/2023-02.enwiki.2022-07.tsv.bz2...\n",
      "04-05 08:33 : INFO : Download https://dumps.wikimedia.org/other/mediawiki_history/2023-02/enwiki/2023-02.enwiki.2022-08.tsv.bz2...\n",
      "04-05 08:35 : INFO : Download https://dumps.wikimedia.org/other/mediawiki_history/2023-02/enwiki/2023-02.enwiki.2022-09.tsv.bz2...\n",
      "04-05 08:38 : INFO : Download https://dumps.wikimedia.org/other/mediawiki_history/2023-02/enwiki/2023-02.enwiki.2022-10.tsv.bz2...\n",
      "04-05 08:40 : INFO : Download https://dumps.wikimedia.org/other/mediawiki_history/2023-02/enwiki/2023-02.enwiki.2022-11.tsv.bz2...\n",
      "04-05 08:42 : INFO : Download https://dumps.wikimedia.org/other/mediawiki_history/2023-02/enwiki/2023-02.enwiki.2022-12.tsv.bz2...\n"
     ]
    }
   ],
   "source": [
    "# Download dumps\n",
    "for code in ['en']: #CODES:\n",
    "    # enable download for wikisource and smaller wikis\n",
    "    code_full = f'{code}wiki' if len(code) == 2 else code\n",
    "    Logger.instance().info(f'Processing {code}...')\n",
    "    try:\n",
    "        # quickfix for wikisource and smaller wikis\n",
    "        url = f'{DUMP_URL}/{DUMP_VERSION}/{code_full}/{DUMP_VERSION}.{code_full}.all-time.{DUMP_FE}'\n",
    "        loc = f'{DUMPS_PATH}/{code}.{DUMP_FE}'\n",
    "        Logger.instance().info(f'Download {url}...')\n",
    "        wget.download(url, loc)\n",
    "    except:\n",
    "        Logger.instance().info(f'ERROR - PROBABLY EXPECTED: No all-times file for {code}.')\n",
    "        for year in YEARS:\n",
    "            try:\n",
    "                if code != 'en':\n",
    "                    url = f'{DUMP_URL}/{DUMP_VERSION}/{code_full}/{DUMP_VERSION}.{code_full}.{year}.{DUMP_FE}'\n",
    "                    loc = f'{DUMPS_PATH}/{code}-{year}.{DUMP_FE}'\n",
    "                    Logger.instance().info(f'Download {url}...')\n",
    "                    wget.download(url, loc)\n",
    "                else:\n",
    "                    for month in range(1, 13):\n",
    "                        url = f'{DUMP_URL}/{DUMP_VERSION}/{code_full}/{DUMP_VERSION}.{code_full}.{year}-{month:02d}.{DUMP_FE}'\n",
    "                        loc = f'{DUMPS_PATH}/{code}-{year}-{month:02d}.{DUMP_FE}'\n",
    "                        Logger.instance().info(f'Download {url}...')\n",
    "                        wget.download(url, loc)\n",
    "            except:\n",
    "                Logger.instance().info(f'Error when downloading {code}-{year}-{month}')"
   ]
  },
  {
   "cell_type": "code",
   "execution_count": null,
   "metadata": {},
   "outputs": [],
   "source": []
  }
 ],
 "metadata": {
  "kernelspec": {
   "display_name": "Python 3",
   "language": "python",
   "name": "python3"
  },
  "language_info": {
   "codemirror_mode": {
    "name": "ipython",
    "version": 3
   },
   "file_extension": ".py",
   "mimetype": "text/x-python",
   "name": "python",
   "nbconvert_exporter": "python",
   "pygments_lexer": "ipython3",
   "version": "3.7.12"
  }
 },
 "nbformat": 4,
 "nbformat_minor": 4
}
