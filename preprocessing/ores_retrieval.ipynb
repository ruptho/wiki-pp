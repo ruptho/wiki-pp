{
 "cells": [
  {
   "cell_type": "code",
   "execution_count": 153,
   "metadata": {},
   "outputs": [
    {
     "name": "stdout",
     "output_type": "stream",
     "text": [
      "The autoreload extension is already loaded. To reload it, use:\n",
      "  %reload_ext autoreload\n"
     ]
    }
   ],
   "source": [
    "%load_ext autoreload\n",
    "%autoreload 2"
   ]
  },
  {
   "cell_type": "code",
   "execution_count": 156,
   "metadata": {},
   "outputs": [],
   "source": [
    "import sys\n",
    "from scripts.retrieve_ores import build_ores_df_from_pickle_files\n",
    "sys.path.append('/home/jovyan/work')"
   ]
  },
  {
   "cell_type": "code",
   "execution_count": 133,
   "metadata": {},
   "outputs": [],
   "source": [
    "from scripts.retrieve_ores import build_ores_df_from_pickle_files, retrieve_revids_as_chunks\n",
    "import numpy as np\n",
    "import pandas as pd\n",
    "from scripts.util import chunk_list"
   ]
  },
  {
   "cell_type": "code",
   "execution_count": 28,
   "metadata": {},
   "outputs": [],
   "source": [
    "df_revisions = np.loadtxt('data/experiment/revids_only_content.csv', dtype=int)"
   ]
  },
  {
   "cell_type": "code",
   "execution_count": 57,
   "metadata": {},
   "outputs": [],
   "source": [
    "df_revisions_ext = pd.read_csv('data/experiment/new_revids.csv')"
   ]
  },
  {
   "cell_type": "code",
   "execution_count": 134,
   "metadata": {},
   "outputs": [],
   "source": [
    "df_revisions_features = pd.read_csv('data/experiment/experiment_eow_ids.csv')"
   ]
  },
  {
   "cell_type": "code",
   "execution_count": 146,
   "metadata": {},
   "outputs": [],
   "source": [
    "df_0112 = df_revisions_features[df_revisions_features.request_diff_week.isin([0, -1, 12])]"
   ]
  },
  {
   "cell_type": "code",
   "execution_count": 165,
   "metadata": {},
   "outputs": [],
   "source": [
    "df_others = df_revisions_features[~df_revisions_features.request_diff_week.isin([0, -1, 12]) & ~df_others.revision_id_last.isin(df_0112.revision_id_last)]"
   ]
  },
  {
   "cell_type": "code",
   "execution_count": 58,
   "metadata": {},
   "outputs": [],
   "source": [
    "df_revisions_ext.revision_id = df_revisions_ext.revision_id.astype(int)"
   ]
  },
  {
   "cell_type": "code",
   "execution_count": null,
   "metadata": {},
   "outputs": [
    {
     "name": "stderr",
     "output_type": "stream",
     "text": [
      "09-20 09:12 : INFO : Created new singleton instance\n",
      "09-20 09:12 : INFO : Start processing exp-errors_chunk_000_575668228-740294655.pkl\n"
     ]
    },
    {
     "name": "stdout",
     "output_type": "stream",
     "text": [
      "New logging instance for ../logging//ores-compute.log\n"
     ]
    }
   ],
   "source": [
    "df_ores = build_ores_df_from_pickle_files('exp-')"
   ]
  },
  {
   "cell_type": "markdown",
   "metadata": {},
   "source": [
    "# Retrieve Ids"
   ]
  },
  {
   "cell_type": "code",
   "execution_count": null,
   "metadata": {},
   "outputs": [
    {
     "name": "stderr",
     "output_type": "stream",
     "text": [
      "09-20 12:30 : INFO : Created new singleton instance\n",
      "09-20 12:30 : INFO : Start retrieving exp-new\n"
     ]
    },
    {
     "name": "stdout",
     "output_type": "stream",
     "text": [
      "New logging instance for ../logging//ores-retrieval-exp.log\n"
     ]
    }
   ],
   "source": [
    "retrieve_revids_as_chunks(list(missing_ids), 'exp-new', file_path='data/ores/experiment')"
   ]
  },
  {
   "cell_type": "code",
   "execution_count": null,
   "metadata": {},
   "outputs": [],
   "source": [
    "retrieve_revids_as_chunks(list(missing_ids), 'exp-new', file_path='data/ores/experiment')"
   ]
  },
  {
   "cell_type": "code",
   "execution_count": 68,
   "metadata": {},
   "outputs": [],
   "source": [
    "import pickle\n",
    "with open(f'data/ores/experiment/exp-new-ext_chunk_000_479395598-1146815216.pkl', 'rb') as handle:\n",
    "    chunk_res = pickle.load(handle)\n",
    "dict_res = {model: pd.concat([res[model] if model in res else pd.DataFrame() for res in chunk_res[0]]).reset_index(\n",
    "    drop=True) for model in chunk_res[0][0].keys()}"
   ]
  },
  {
   "cell_type": "code",
   "execution_count": null,
   "metadata": {},
   "outputs": [],
   "source": [
    "df_new_ret2 = build_ores_df_from_pickle_files('exp-ext')"
   ]
  },
  {
   "cell_type": "code",
   "execution_count": null,
   "metadata": {},
   "outputs": [],
   "source": [
    "retrieve_revids_as_chunks(df_revisions_ext.revision_id.unique().tolist(), 'exp-new-ext', file_path='data/ores/experiment')"
   ]
  },
  {
   "cell_type": "code",
   "execution_count": null,
   "metadata": {},
   "outputs": [],
   "source": [
    "retrieve_revids_as_chunks(df_revisions_ext.revision_id.unique().tolist(), \n",
    "                           'exp-new-ext', file_path='data/ores/experiment')"
   ]
  },
  {
   "cell_type": "code",
   "execution_count": null,
   "metadata": {},
   "outputs": [
    {
     "name": "stderr",
     "output_type": "stream",
     "text": [
      "10-05 06:33 : INFO : Start retrieving exp-new-ext\n"
     ]
    }
   ],
   "source": [
    "results = retrieve_revids_as_chunks(df_revisions_ext.revision_id.unique().tolist(), 'exp-new-ext', file_path='data/ores/experiment')\n",
    "df_new_ret = build_ores_df_from_pickle_files('exp-new-ext')\n",
    "errors = df_new_ret[1]\n",
    "retrieve_revids_as_chunks(errors, 'exp-new-ext-errors', file_path='data/ores/experiment')"
   ]
  },
  {
   "cell_type": "markdown",
   "metadata": {},
   "source": [
    "# Feature retrieval"
   ]
  },
  {
   "cell_type": "code",
   "execution_count": 147,
   "metadata": {},
   "outputs": [],
   "source": [
    "revids_features = df_0112.revision_id_last.astype(int)\n",
    "revids_features_others = df_others[].revision_id_last.astype(int)"
   ]
  },
  {
   "cell_type": "code",
   "execution_count": null,
   "metadata": {},
   "outputs": [
    {
     "name": "stderr",
     "output_type": "stream",
     "text": [
      "10-07 15:38 : INFO : Start retrieving quality-features\n",
      "INFO:ores-retrieval-exp:Start retrieving quality-features\n"
     ]
    }
   ],
   "source": [
    "from scripts.retrieve_ores import retrieve_articlequality, retrieve_features_as_chunks\n",
    "\n",
    "results = retrieve_features_as_chunks(list(revids_features), 'quality-features',  n_jobs=4)\n",
    "result_error = retrieve_features_as_chunks(list(results[0]), 'quality-features-erorrs',  n_jobs=4)"
   ]
  },
  {
   "cell_type": "code",
   "execution_count": 174,
   "metadata": {},
   "outputs": [],
   "source": [
    "revids_features_others = df_others.revision_id_last.unique().astype(int)"
   ]
  },
  {
   "cell_type": "code",
   "execution_count": null,
   "metadata": {},
   "outputs": [
    {
     "name": "stderr",
     "output_type": "stream",
     "text": [
      "10-09 20:24 : INFO : Start retrieving quality-features-more\n",
      "INFO:ores-retrieval-exp:Start retrieving quality-features-more\n"
     ]
    }
   ],
   "source": [
    "from scripts.retrieve_ores import retrieve_articlequality, retrieve_features_as_chunks\n",
    "\n",
    "results_2 = retrieve_features_as_chunks(list(revids_features), 'quality-features-more',  n_jobs=4)\n",
    "result_2_error = retrieve_features_as_chunks(list(results[1]), 'quality-features-more-erorrs',  n_jobs=1)"
   ]
  }
 ],
 "metadata": {
  "kernelspec": {
   "display_name": "Python 3",
   "language": "python",
   "name": "python3"
  },
  "language_info": {
   "codemirror_mode": {
    "name": "ipython",
    "version": 3
   },
   "file_extension": ".py",
   "mimetype": "text/x-python",
   "name": "python",
   "nbconvert_exporter": "python",
   "pygments_lexer": "ipython3",
   "version": "3.7.12"
  }
 },
 "nbformat": 4,
 "nbformat_minor": 4
}
