{
 "cells": [
  {
   "cell_type": "code",
   "execution_count": 1,
   "metadata": {},
   "outputs": [],
   "source": [
    "%load_ext autoreload\n",
    "%autoreload 2"
   ]
  },
  {
   "cell_type": "code",
   "execution_count": 2,
   "metadata": {},
   "outputs": [],
   "source": [
    "import sys\n",
    "\n",
    "sys.path.append('/home/jovyan/work')\n",
    "# https://wikitech.wikimedia.org/wiki/Analytics/Data_Lake/Edits/Mediawiki_history_dumps#Technical_Documentation"
   ]
  },
  {
   "cell_type": "code",
   "execution_count": 4,
   "metadata": {},
   "outputs": [],
   "source": [
    "import numpy as np\n",
    "import pandas as pd\n",
    "from scripts.config import DUMPS_PATH, PRE_PATH\n",
    "#from scripts.filter_mw_dumps import process_lang_history\n",
    "from mw.lib import title as mw_t"
   ]
  },
  {
   "cell_type": "code",
   "execution_count": 5,
   "metadata": {},
   "outputs": [],
   "source": [
    "import swifter"
   ]
  },
  {
   "cell_type": "code",
   "execution_count": 6,
   "metadata": {},
   "outputs": [],
   "source": [
    "column_names = np.loadtxt(f'mediawiki_history_columns.txt', dtype=str)\n",
    "\n",
    "DTYPES = [str, str, str, str, str,\n",
    "          'Int64',\n",
    "          str, str,\n",
    "          object, object, object, object, object, object,\n",
    "          \"boolean\", \"boolean\", \"boolean\", \"boolean\",\n",
    "          str, str, str,\n",
    "          'Int64', 'Int64', 'Int64',\n",
    "          str, str, 'Int64',\n",
    "          \"boolean\", 'Int64',\n",
    "          \"boolean\", \"boolean\", \"boolean\",\n",
    "          str, str,\n",
    "          'Int64', 'Int64', 'Int64',\n",
    "          str, str,\n",
    "          object, object, object, object, object, object,\n",
    "          \"boolean\", \"boolean\", \"boolean\", \"boolean\",\n",
    "          str, str, str,\n",
    "          'Int64', 'Int64',\n",
    "          \"boolean\",\n",
    "          object,\n",
    "          \"boolean\",\n",
    "          'Int64', 'Int64',\n",
    "          str, str, str,\n",
    "          \"boolean\",\n",
    "          str,\n",
    "          \"boolean\",\n",
    "          'Int64', 'Int64',\n",
    "          \"boolean\", \"boolean\",\n",
    "          object]\n",
    "\n",
    "DTYPE_DICT = dict(zip(column_names, DTYPES))"
   ]
  },
  {
   "cell_type": "code",
   "execution_count": 7,
   "metadata": {},
   "outputs": [],
   "source": [
    "rel_cols = ['event_entity', 'revision_id', 'revision_parent_id',\n",
    "               'revision_text_bytes', 'revision_text_bytes_diff',\n",
    "               'revision_is_identity_revert', 'revision_is_identity_reverted',\n",
    "               'event_timestamp', 'page_id', 'page_title', 'page_title_historical',\n",
    "               'page_namespace_historical', 'event_user_id', 'page_namespace',\n",
    "               'page_revision_count', 'page_is_redirect', 'page_is_deleted',\n",
    "               'event_user_text_historical', 'event_user_text',\n",
    "               'event_user_is_bot_by_historical', 'event_user_groups_historical',\n",
    "               'event_user_revision_count', 'event_user_registration_timestamp',\n",
    "               'event_user_creation_timestamp']"
   ]
  },
  {
   "cell_type": "code",
   "execution_count": null,
   "metadata": {},
   "outputs": [],
   "source": [
    "df_en = process_lang_history('en', column_names, DTYPE_DICT, path=f'../{DUMPS_PATH}', \n",
    "                             ending='tsv.bz2', years=list(range(2012, 2024)), usecols=rel_cols)"
   ]
  },
  {
   "cell_type": "code",
   "execution_count": null,
   "metadata": {},
   "outputs": [],
   "source": [
    "df_en_2023 = process_lang_history('en', column_names, DTYPE_DICT, path=f'../{DUMPS_PATH}', \n",
    "                                  ending='tsv.bz2', years=list(range(2023, 2024)), usecols=rel_cols)\n",
    "df_en = pd.concat([df_en, df_en_2023]).reset_index(drop=True)\n",
    "\n"
   ]
  },
  {
   "cell_type": "code",
   "execution_count": null,
   "metadata": {},
   "outputs": [],
   "source": [
    "df_en['page_title_norm'] = df_en.page_title.swifter.apply(lambda title: mw_t.normalize(str(title)) if not pd.isna(title) else pd.NA)\n",
    "df_en['page_title_historical_norm'] = df_en.page_title_historical.swifter.apply(lambda title: mw_t.normalize(str(title)) if not pd.isna(title) else pd.NA)\n",
    "\n",
    "df_en.to_csv(f'../datasets/wiki_pp/en-complete-2012-2023.tsv.bz2', sep='\\t', index=False)"
   ]
  },
  {
   "cell_type": "code",
   "execution_count": null,
   "metadata": {},
   "outputs": [],
   "source": [
    "df_en = pd.read_csv(f'../datasets/wiki_pp/en-complete-2012-2023.tsv.bz2', sep='\\t')"
   ]
  },
  {
   "cell_type": "code",
   "execution_count": 147,
   "metadata": {},
   "outputs": [],
   "source": [
    "df_treat = pd.read_csv('../data/experiment/df_candidate_articles.csv')\n"
   ]
  },
  {
   "cell_type": "code",
   "execution_count": 23,
   "metadata": {},
   "outputs": [],
   "source": [
    "treat_titles = set(df_treat.norm_title.values)"
   ]
  },
  {
   "cell_type": "code",
   "execution_count": null,
   "metadata": {},
   "outputs": [],
   "source": [
    "df_filtered = df_en[df_en.page_title_historical_norm.isin(treat_titles) | df_en.page_title_norm.isin(treat_titles)]\n",
    "df_filtered.to_csv(f'../../datasets/wiki_pp/en-filtered-2012-2023.tsv.bz2', sep='\\t', index=False)"
   ]
  },
  {
   "cell_type": "markdown",
   "metadata": {},
   "source": [
    "# now get revisions around relevant timestamp"
   ]
  },
  {
   "cell_type": "code",
   "execution_count": 224,
   "metadata": {},
   "outputs": [],
   "source": [
    "from scripts.filter_mw_dumps import filter_data_around_timestamp"
   ]
  },
  {
   "cell_type": "code",
   "execution_count": null,
   "metadata": {},
   "outputs": [],
   "source": [
    "df_exp = pd.read_csv('../data/experiment/df_experiment_articles.csv')\n",
    "df_exp.treated_id = pd.to_numeric(df_exp.treated_id, errors='coerce')\n",
    "df_exp['dummy'] = 1\n"
   ]
  },
  {
   "cell_type": "code",
   "execution_count": 199,
   "metadata": {},
   "outputs": [],
   "source": [
    "df_filtered.page_title_historical_norm = df_filtered.page_title_historical_norm.astype(str)\n",
    "df_filtered.event_timestamp = pd.to_datetime(df_filtered.event_timestamp, errors='coerce', utc=True)\n",
    "\n",
    "df_exp.start = pd.to_datetime(df_exp.start, errors='coerce', utc=True)\n",
    "df_exp.end = pd.to_datetime(df_exp.end, errors='coerce', utc=True)\n",
    "df_exp.request_timestamp = pd.to_datetime(df_exp.request_timestamp, errors='coerce', utc=True)\n",
    "df_exp.norm_title = df_exp.norm_title.astype(str)"
   ]
  },
  {
   "cell_type": "code",
   "execution_count": null,
   "metadata": {},
   "outputs": [],
   "source": [
    "df_mw_data_onid = filter_data_around_timestamp(df_filtered, df_exp, filename=None)\n"
   ]
  },
  {
   "cell_type": "code",
   "execution_count": 202,
   "metadata": {},
   "outputs": [],
   "source": [
    "df_mw_data = filter_data_around_timestamp(df_filtered, df_exp, filename=None)\n",
    "#df_mw_data.to_csv('../data/experiment/mw_treated_90.tsv.bz2', index=False)"
   ]
  },
  {
   "cell_type": "code",
   "execution_count": 257,
   "metadata": {},
   "outputs": [],
   "source": [
    "df_new_name = df_filtered.query('page_title_historical != page_title_norm')"
   ]
  },
  {
   "cell_type": "code",
   "execution_count": 319,
   "metadata": {},
   "outputs": [],
   "source": [
    "df_mw_data_othername = filter_data_around_timestamp(df_new_name, df_exp, page_title_column='page_title_norm', filename=None)\n"
   ]
  },
  {
   "cell_type": "code",
   "execution_count": 343,
   "metadata": {},
   "outputs": [],
   "source": [
    "df_mw_data_combined = pd.concat([df_mw_data, df_mw_data_othername])"
   ]
  },
  {
   "cell_type": "code",
   "execution_count": 344,
   "metadata": {},
   "outputs": [
    {
     "data": {
      "text/html": [
       "<div>\n",
       "<style scoped>\n",
       "    .dataframe tbody tr th:only-of-type {\n",
       "        vertical-align: middle;\n",
       "    }\n",
       "\n",
       "    .dataframe tbody tr th {\n",
       "        vertical-align: top;\n",
       "    }\n",
       "\n",
       "    .dataframe thead th {\n",
       "        text-align: right;\n",
       "    }\n",
       "</style>\n",
       "<table border=\"1\" class=\"dataframe\">\n",
       "  <thead>\n",
       "    <tr style=\"text-align: right;\">\n",
       "      <th></th>\n",
       "      <th>revision_id</th>\n",
       "      <th>page_title_historical</th>\n",
       "      <th>page_title_norm</th>\n",
       "      <th>norm_title</th>\n",
       "      <th>treated_id</th>\n",
       "    </tr>\n",
       "  </thead>\n",
       "  <tbody>\n",
       "    <tr>\n",
       "      <th>70984542</th>\n",
       "      <td>1146666830</td>\n",
       "      <td>Alder_Lake</td>\n",
       "      <td>Alder_Lake</td>\n",
       "      <td>Alder_Lake</td>\n",
       "      <td>85613.0</td>\n",
       "    </tr>\n",
       "    <tr>\n",
       "      <th>70984548</th>\n",
       "      <td>1146666903</td>\n",
       "      <td>Alder_Lake</td>\n",
       "      <td>Alder_Lake</td>\n",
       "      <td>Alder_Lake</td>\n",
       "      <td>4785.0</td>\n",
       "    </tr>\n",
       "    <tr>\n",
       "      <th>70984548</th>\n",
       "      <td>1146666903</td>\n",
       "      <td>Alder_Lake</td>\n",
       "      <td>Alder_Lake</td>\n",
       "      <td>Alder_Lake</td>\n",
       "      <td>85613.0</td>\n",
       "    </tr>\n",
       "    <tr>\n",
       "      <th>71011297</th>\n",
       "      <td>1146985528</td>\n",
       "      <td>Alder_Lake</td>\n",
       "      <td>Alder_Lake</td>\n",
       "      <td>Alder_Lake</td>\n",
       "      <td>85613.0</td>\n",
       "    </tr>\n",
       "    <tr>\n",
       "      <th>71011297</th>\n",
       "      <td>1146985528</td>\n",
       "      <td>Alder_Lake</td>\n",
       "      <td>Alder_Lake</td>\n",
       "      <td>Alder_Lake</td>\n",
       "      <td>4785.0</td>\n",
       "    </tr>\n",
       "  </tbody>\n",
       "</table>\n",
       "</div>"
      ],
      "text/plain": [
       "          revision_id page_title_historical page_title_norm  norm_title  \\\n",
       "70984542   1146666830            Alder_Lake      Alder_Lake  Alder_Lake   \n",
       "70984548   1146666903            Alder_Lake      Alder_Lake  Alder_Lake   \n",
       "70984548   1146666903            Alder_Lake      Alder_Lake  Alder_Lake   \n",
       "71011297   1146985528            Alder_Lake      Alder_Lake  Alder_Lake   \n",
       "71011297   1146985528            Alder_Lake      Alder_Lake  Alder_Lake   \n",
       "\n",
       "          treated_id  \n",
       "70984542     85613.0  \n",
       "70984548      4785.0  \n",
       "70984548     85613.0  \n",
       "71011297     85613.0  \n",
       "71011297      4785.0  "
      ]
     },
     "execution_count": 344,
     "metadata": {},
     "output_type": "execute_result"
    }
   ],
   "source": [
    "df_mw_data_combined[df_mw_data_combined[revision_id].duplicated(keep=False)].sort_values('revision_id').tail()[['revision_id', 'page_title_historical', 'page_title_norm', 'norm_title', 'treated_id']]"
   ]
  },
  {
   "cell_type": "code",
   "execution_count": null,
   "metadata": {},
   "outputs": [],
   "source": [
    "df_mw_data = pd.read_csv('../data/experiment/mw_treated_90.tsv.bz2')"
   ]
  },
  {
   "cell_type": "code",
   "execution_count": null,
   "metadata": {},
   "outputs": [],
   "source": [
    "#df_filtered = pd.read_csv(f'../../datasets/wiki_pp/en-filtered-2012-2023.tsv.bz2', sep='\\t')\n",
    "df_filtered.revision_id = pd.to_numeric(df_filtered.revision_id, errors='coerce')\n",
    "df_filtered.revision_parent_id = pd.to_numeric(df_filtered.revision_parent_id, errors='coerce')\n",
    "\n",
    "df_filtered.page_namespace_historical = pd.to_numeric(df_filtered.page_namespace_historical, errors='coerce')\n",
    "df_filtered['page_namespace_content'] = (df_filtered.page_namespace_historical % 2) == 0\n"
   ]
  },
  {
   "cell_type": "code",
   "execution_count": 351,
   "metadata": {},
   "outputs": [
    {
     "name": "stderr",
     "output_type": "stream",
     "text": [
      "/opt/conda/lib/python3.7/site-packages/pandas/core/generic.py:5516: SettingWithCopyWarning: \n",
      "A value is trying to be set on a copy of a slice from a DataFrame.\n",
      "Try using .loc[row_indexer,col_indexer] = value instead\n",
      "\n",
      "See the caveats in the documentation: https://pandas.pydata.org/pandas-docs/stable/user_guide/indexing.html#returning-a-view-versus-a-copy\n",
      "  self[name] = value\n"
     ]
    }
   ],
   "source": [
    "df_mw_data_combined.page_namespace_historical = pd.to_numeric(df_mw_data_combined.page_namespace_historical, errors='coerce')\n",
    "df_mw_data_combined['page_namespace_content'] = (df_mw_data_combined.page_namespace_historical % 2) == 0\n",
    "\n",
    "df_data_content = df_mw_data_combined[df_mw_data_combined.page_namespace_content == True]\n",
    "df_data_content.event_timestamp = pd.to_datetime(df_data_content.event_timestamp, utc=True, errors='coerce')"
   ]
  },
  {
   "cell_type": "code",
   "execution_count": 353,
   "metadata": {},
   "outputs": [],
   "source": [
    "df_first_revs_for_all = df_data_content.loc[df_data_content.groupby('treated_id').event_timestamp.idxmin()]\n",
    "df_first_revs_for_all.revision_parent_id = df_first_revs_for_all.revision_parent_id.astype(int)\n",
    "\n",
    "df_parent_revs = df_filtered.merge(df_first_revs_for_all,\n",
    "                             left_on='revision_id', right_on='revision_parent_id', how='left',\n",
    "                             suffixes=('', '_mrg')).dropna(subset=['revision_parent_id_mrg'])\n",
    "df_parent_revs = df_parent_revs.query('revision_id != 0').drop_duplicates(subset='revision_id')"
   ]
  },
  {
   "cell_type": "code",
   "execution_count": 354,
   "metadata": {},
   "outputs": [],
   "source": [
    "df_parent_revs = df_parent_revs[[col for col in df_parent_revs.columns if not col.endswith('_mrg')]]"
   ]
  },
  {
   "cell_type": "code",
   "execution_count": 355,
   "metadata": {},
   "outputs": [],
   "source": [
    "df_parent_revs['page_namespace_content'] = True\n",
    "df_parent_revs = df_parent_revs[[col for col in df_parent_revs.columns if not col.endswith('_mrg')]]"
   ]
  },
  {
   "cell_type": "code",
   "execution_count": 356,
   "metadata": {},
   "outputs": [],
   "source": [
    "df_mw_data_with_parents_ext = pd.concat([df_parent_revs, df_mw_data_combined])\n",
    "df_mw_data_with_parents_ext.event_timestamp = pd.to_datetime(df_mw_data_with_parents_ext.event_timestamp, errors='coerce', utc=True)\n",
    "df_mw_data_with_parents_ext = df_mw_data_with_parents_ext.drop_duplicates()"
   ]
  },
  {
   "cell_type": "code",
   "execution_count": 362,
   "metadata": {},
   "outputs": [],
   "source": [
    "df_new_revision_ids = df_mw_data_with_parents_ext[~df_mw_data_with_parents_ext.revision_id.isin(df_mw_data_with_parents.revision_id.unique())]"
   ]
  },
  {
   "cell_type": "code",
   "execution_count": 368,
   "metadata": {},
   "outputs": [],
   "source": [
    "df_new_revision_ids[['revision_id', 'revision_parent_id', 'page_title_historical']].to_csv('../data/experiment/new_revids.csv', index=False)"
   ]
  },
  {
   "cell_type": "code",
   "execution_count": null,
   "metadata": {},
   "outputs": [],
   "source": [
    "df_mw_data_with_parents = pd.concat([df_parent_revs, df_mw_data_combined])\n",
    "df_mw_data_with_parents.event_timestamp = pd.to_datetime(df_mw_data_with_parents.event_timestamp, errors='coerce', utc=True)\n",
    "df_mw_data_with_parents = df_mw_data_with_parents.drop_duplicates()"
   ]
  },
  {
   "cell_type": "code",
   "execution_count": null,
   "metadata": {},
   "outputs": [],
   "source": [
    "df_mw_data_with_parents_ext[df_mw_data_with_parents_ext.columns[1:]].to_csv('../data/experiment/mw_experiment_90_with_parents-ext.tsv.bz2', index=False)"
   ]
  },
  {
   "cell_type": "code",
   "execution_count": 376,
   "metadata": {},
   "outputs": [],
   "source": [
    "df_last_rev = df_mw_data_with_parents_ext.loc[df_mw_data_with_parents_ext.groupby('norm_title').event_timestamp.idxmax()]\n",
    "df_last_rev.page_namespace = pd.to_numeric(df_last_rev.page_namespace.fillna(-1), errors='coerce').astype(int)\n",
    "df_last_rev.treated_id = df_last_rev.treated_id.astype(int)\n",
    "\n",
    "df_exp.decision_ts = pd.to_datetime(df_exp.decision_ts, errors='coerce', utc=True)\n",
    "df_exp.request_timestamp = pd.to_datetime(df_exp.decision_ts, errors='coerce', utc=True)\n",
    "df_exp.start = pd.to_datetime(df_exp.start, errors='coerce', utc=True)\n",
    "df_exp.end = pd.to_datetime(df_exp.end, errors='coerce', utc=True)\n",
    "df_exp_ns0 = df_exp[df_exp.treated_id.isin(df_last_rev.query(\"page_namespace == 0\").treated_id.values)]"
   ]
  },
  {
   "cell_type": "code",
   "execution_count": 377,
   "metadata": {},
   "outputs": [],
   "source": [
    "df_exp_ns0.to_csv('../data/experiment/df_experiment_articles_ns0-ext.csv', index=False)"
   ]
  },
  {
   "cell_type": "code",
   "execution_count": 378,
   "metadata": {},
   "outputs": [],
   "source": [
    "df_mw_data_with_parents_ns0 = df_mw_data_with_parents_ext[\n",
    "    df_mw_data_with_parents_ext.treated_id.isin(df_exp_ns0.treated_id.values)]\n"
   ]
  },
  {
   "cell_type": "code",
   "execution_count": null,
   "metadata": {},
   "outputs": [],
   "source": [
    "df_mw_data_with_parents_ns0_base = df_mw_data_with_parents[\n",
    "    df_mw_data_with_parents_ext.treated_id.isin(df_exp_ns0.treated_id.values)]"
   ]
  },
  {
   "cell_type": "code",
   "execution_count": null,
   "metadata": {},
   "outputs": [],
   "source": [
    "11836604"
   ]
  },
  {
   "cell_type": "code",
   "execution_count": 380,
   "metadata": {},
   "outputs": [
    {
     "data": {
      "text/plain": [
       "11836604"
      ]
     },
     "execution_count": 380,
     "metadata": {},
     "output_type": "execute_result"
    }
   ],
   "source": [
    "len(df_mw_data_with_parents_ns0)"
   ]
  },
  {
   "cell_type": "code",
   "execution_count": 379,
   "metadata": {},
   "outputs": [],
   "source": [
    "df_mw_data_with_parents_ns0[df_mw_data_with_parents_ns0.columns[1:]].to_csv('../data/experiment/mw_experiment_90_with_parents_ns0-ext.tsv.bz2', index=False)"
   ]
  },
  {
   "cell_type": "markdown",
   "metadata": {},
   "source": [
    "### double check remaining dataset with previous checks"
   ]
  },
  {
   "cell_type": "code",
   "execution_count": null,
   "metadata": {},
   "outputs": [],
   "source": [
    "df_mw_data = filter_data_around_timestamp(df_filtered, df_exp, filename=None)\n"
   ]
  },
  {
   "cell_type": "code",
   "execution_count": 164,
   "metadata": {},
   "outputs": [],
   "source": [
    "from scripts.descriptive import plot_rfpp"
   ]
  },
  {
   "cell_type": "code",
   "execution_count": 161,
   "metadata": {},
   "outputs": [
    {
     "data": {
      "image/png": "[encoded data removed]",
      "text/plain": [
       "<Figure size 576x144 with 1 Axes>"
      ]
     },
     "metadata": {
      "needs_background": "light"
     },
     "output_type": "display_data"
    }
   ],
   "source": [
    "df_rel_rfpp = df_exp_ns0[df_exp_ns0.type != 'spell-not-requested'].copy()\n",
    "df_rel_rfpp['Status'] = df_rel_rfpp.type.apply(\n",
    "    lambda s: 'Protected' if s == 'rfpp-protected' else 'Declined' if s == 'rfpp-declined' else 'UserIssue' if s == 'rfpp-userint' else None)\n",
    "\n",
    "plot_rfpp(df_rel_rfpp, filename=None)"
   ]
  },
  {
   "cell_type": "code",
   "execution_count": 40,
   "metadata": {},
   "outputs": [
    {
     "data": {
      "text/plain": [
       "<matplotlib.axes._subplots.AxesSubplot at 0x7f78602b6e90>"
      ]
     },
     "execution_count": 40,
     "metadata": {},
     "output_type": "execute_result"
    },
    {
     "data": {
      "image/png": "[encoded data removed]",
      "text/plain": [
       "<Figure size 432x288 with 1 Axes>"
      ]
     },
     "metadata": {
      "needs_background": "light"
     },
     "output_type": "display_data"
    }
   ],
   "source": [
    "df_parent_revs.event_timestamp = pd.to_datetime(df_parent_revs.event_timestamp, utc=True, errors='coerce')\n",
    "df_parent_revs.event_timestamp.dt.date.hist(bins=100)"
   ]
  },
  {
   "cell_type": "code",
   "execution_count": 72,
   "metadata": {},
   "outputs": [
    {
     "data": {
      "text/plain": [
       "<matplotlib.axes._subplots.AxesSubplot at 0x7f4f7826ba50>"
      ]
     },
     "execution_count": 72,
     "metadata": {},
     "output_type": "execute_result"
    },
    {
     "data": {
      "image/png": "[encoded data removed]",
      "text/plain": [
       "<Figure size 432x288 with 1 Axes>"
      ]
     },
     "metadata": {
      "needs_background": "light"
     },
     "output_type": "display_data"
    }
   ],
   "source": [
    "df_mw_exp.event_timestamp.dt.date.hist(bins=100)"
   ]
  },
  {
   "cell_type": "code",
   "execution_count": 181,
   "metadata": {},
   "outputs": [
    {
     "data": {
      "image/png": "[encoded data removed]",
      "text/plain": [
       "<Figure size 720x360 with 2 Axes>"
      ]
     },
     "metadata": {
      "needs_background": "light"
     },
     "output_type": "display_data"
    }
   ],
   "source": [
    "from scripts.descriptive import compute_cdf_and_plot, compute_duration_dfs\n",
    "\n",
    "df_spells = df_exp_ns0[df_exp_ns0.type.isin(['spell-not-requested', 'rfpp-protected'])].copy()\n",
    "df_spells.start, df_spells.end = pd.to_datetime(df_spells.start, utc=True), pd.to_datetime(df_spells.end, utc=True)\n",
    "df_spells['dummy_type'] = 'edit'\n",
    "df_edit_spells_all, df_prot_survival_all = compute_duration_dfs(df_spells, type_col='dummy_type')\n",
    "df_cdf_count, df_hist = compute_cdf_and_plot(df_edit_spells_all, title='Page Protections for Investigation', exclude_infinity=True, bins_limit=14)\n",
    "most_pp = set(df_hist.sort_values('value', ascending=False)[:14].duration_days.values)\n",
    "def sortby(x):\n",
    "    try:\n",
    "        return int(x.split('-')[0])\n",
    "    except ValueError:\n",
    "        return float('inf')\n",
    "hue_order = list(sorted(list(most_pp), key=sortby))"
   ]
  },
  {
   "cell_type": "code",
   "execution_count": null,
   "metadata": {},
   "outputs": [],
   "source": [
    "df_revisions = df_mw_data.revision_id.astype(int).unique()\n",
    "np.savetxt('../data/experiment/revids_only.csv',df_revisions, fmt='%d')\n",
    "df_revisions_parents = df_mw_data.revision_parent_id.astype(int).unique()\n",
    "np.savetxt('../data/experiment/revids_only_parents.csv', df_revisions_parents, fmt='%d')"
   ]
  },
  {
   "cell_type": "code",
   "execution_count": 100,
   "metadata": {},
   "outputs": [],
   "source": [
    "df_revisions = df_mw_data_with_parents.revision_id.astype(int).unique()\n",
    "df_revisions_parents = df_mw_data_with_parents.revision_parent_id.astype(int).unique()\n",
    "df_revisions_all = set(df_revisions) | set(df_revisions_parents)\n",
    "\n",
    "np.savetxt('../data/experiment/revids_only_content_with_parents.csv', list(df_revisions_all), fmt='%d')"
   ]
  },
  {
   "cell_type": "code",
   "execution_count": null,
   "metadata": {},
   "outputs": [],
   "source": []
  }
 ],
 "metadata": {
  "kernelspec": {
   "display_name": "Python 3",
   "language": "python",
   "name": "python3"
  },
  "language_info": {
   "codemirror_mode": {
    "name": "ipython",
    "version": 3
   },
   "file_extension": ".py",
   "mimetype": "text/x-python",
   "name": "python",
   "nbconvert_exporter": "python",
   "pygments_lexer": "ipython3",
   "version": "3.7.12"
  }
 },
 "nbformat": 4,
 "nbformat_minor": 4
}
