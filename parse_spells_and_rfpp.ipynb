{
 "cells": [
  {
   "cell_type": "code",
   "execution_count": 1,
   "metadata": {},
   "outputs": [],
   "source": [
    "%load_ext autoreload\n",
    "%autoreload 2\n",
    "import sys\n",
    "\n",
    "sys.path.append('/home/jovyan/work')"
   ]
  },
  {
   "cell_type": "code",
   "execution_count": 11,
   "metadata": {},
   "outputs": [],
   "source": [
    "import pandas as pd"
   ]
  },
  {
   "cell_type": "markdown",
   "metadata": {},
   "source": [
    "# Compute First Protection Spells"
   ]
  },
  {
   "cell_type": "code",
   "execution_count": 14,
   "metadata": {},
   "outputs": [],
   "source": [
    "from scripts.descriptive import compute_duration_dfs, compute_cdf_and_plot\n",
    "from scripts.preprocessing import load_protections"
   ]
  },
  {
   "cell_type": "code",
   "execution_count": 339,
   "metadata": {},
   "outputs": [
    {
     "name": "stdout",
     "output_type": "stream",
     "text": [
      "All spells: 723640\n",
      "Excluded already started protections: 694714\n",
      "Exclude protections starting after 2012-01-01: 488772\n",
      "Only edit spells: 299721\n",
      "Only ns0: 215746\n",
      "Excluded already started protections: 215746\n",
      "Exclude protections starting after 2012-01-01: 215746\n"
     ]
    }
   ],
   "source": [
    "df_all_spells = load_protections(spell_paths='data/protections/spells.csv.zip',\n",
    "                                 exclude_moves_during_pp=False,\n",
    "                                 exclude_subsequent=False, \n",
    "                                 exclude_indefinite=False, \n",
    "                                 exclude_ns=True, \n",
    "                                 exclude_ts_after=None,\n",
    "                                 cutoff='2012-01-01')"
   ]
  },
  {
   "cell_type": "code",
   "execution_count": 344,
   "metadata": {},
   "outputs": [
    {
     "name": "stdout",
     "output_type": "stream",
     "text": [
      "All spells: 723640\n",
      "Only edit spells: 418219\n",
      "Only ns0: 278833\n",
      "Excluded already started protections: 277966\n",
      "Exclude protections starting after 2012-01-01: 215746\n",
      "Start prot from moved 1723\n",
      "End prot from moved 901\n",
      "In both  12\n",
      "No Spells that were moved during protection: 213244\n",
      "No start or end date: 196240\n"
     ]
    }
   ],
   "source": [
    "df_ns0_no_moved_noindef = load_protections(spell_paths='data/protections/spells.csv.zip',\n",
    "                                 exclude_moves_during_pp=True,\n",
    "                                 exclude_subsequent=False, \n",
    "                                 exclude_indefinite=True, \n",
    "                                 exclude_ns=True, \n",
    "                                 exclude_ts_after=None,\n",
    "                                 cutoff='2012-01-01')"
   ]
  },
  {
   "cell_type": "code",
   "execution_count": 361,
   "metadata": {},
   "outputs": [
    {
     "name": "stdout",
     "output_type": "stream",
     "text": [
      "All spells: 723640\n",
      "Only edit spells: 418219\n",
      "Only ns0: 278833\n",
      "Excluded already started protections: 277966\n",
      "Exclude protections starting after 2012-01-01: 215746\n",
      "Start prot from moved 1723\n",
      "End prot from moved 901\n",
      "In both  12\n",
      "No Spells that were moved during protection: 213244\n"
     ]
    }
   ],
   "source": [
    "df_ns0_no_moved_indef = load_protections(spell_paths='data/protections/spells.csv.zip',\n",
    "                                 exclude_moves_during_pp=True,\n",
    "                                 exclude_subsequent=False, \n",
    "                                 exclude_indefinite=False, \n",
    "                                 exclude_ns=True, \n",
    "                                 exclude_ts_after=None,\n",
    "                                 cutoff='2012-01-01')"
   ]
  },
  {
   "cell_type": "code",
   "execution_count": 360,
   "metadata": {},
   "outputs": [],
   "source": [
    "df_indef = df_ns0_no_moved_indef[pd.isna(df_ns0_no_moved_indef.end)].copy()\n",
    "df_indef.end.fillna('2023-03-01', inplace=True)\n",
    "\n",
    "df_indef['duration'] = df_indef.end - df_indef.start\n"
   ]
  },
  {
   "cell_type": "code",
   "execution_count": 355,
   "metadata": {},
   "outputs": [
    {
     "data": {
      "text/plain": [
       "DeMarcus_Cousins                  30\n",
       "Turkey                            29\n",
       "Cat_Creek,_Montana                28\n",
       "Donald_Trump                      28\n",
       "Newcastle_United_F.C.             25\n",
       "                                  ..\n",
       "Integralism                        1\n",
       "Intact_dilation_and_extraction     1\n",
       "Insyde_Software                    1\n",
       "Insyde                             1\n",
       "🍌                                  1\n",
       "Name: title, Length: 104305, dtype: int64"
      ]
     },
     "execution_count": 355,
     "metadata": {},
     "output_type": "execute_result"
    }
   ],
   "source": [
    "df_ns0_no_moved_noindef.title.value_counts()"
   ]
  },
  {
   "cell_type": "code",
   "execution_count": 372,
   "metadata": {},
   "outputs": [
    {
     "name": "stdout",
     "output_type": "stream",
     "text": [
      "All spells: 723640\n",
      "Only edit spells: 418219\n",
      "Only ns0: 278833\n",
      "Only first protections: 138270\n",
      "Excluded already started protections: 138270\n",
      "Exclude protections starting after 2012-01-01: 102563\n",
      "Start prot from moved 258\n",
      "End prot from moved 227\n",
      "In both  12\n",
      "No Spells that were moved during protection: 102100\n",
      "No start or end date: 94298\n"
     ]
    }
   ],
   "source": [
    "df_spells = load_protections(spell_paths='data/protections/spells.csv.zip',\n",
    "                             moves_file='data/supplementary/output-moves.tsv.zip', \n",
    "                             exclude_ts_after=None, \n",
    "                            cutoff='2012-01-01')"
   ]
  },
  {
   "cell_type": "code",
   "execution_count": 176,
   "metadata": {},
   "outputs": [],
   "source": [
    "df_spells.start = pd.to_datetime(df_spells.start, utc=True)\n",
    "df_spells.start_day = pd.to_datetime(df_spells.start_day, utc=True)"
   ]
  },
  {
   "cell_type": "code",
   "execution_count": 311,
   "metadata": {},
   "outputs": [
    {
     "data": {
      "image/png": "[encoded data removed]",
      "text/plain": [
       "<Figure size 720x360 with 2 Axes>"
      ]
     },
     "metadata": {
      "needs_background": "light"
     },
     "output_type": "display_data"
    }
   ],
   "source": [
    "df_edit_spells_complete, df_prot_survival_complete = compute_duration_dfs(df_ns0_no_moved_no_indef)\n",
    "df_hist = compute_cdf_and_plot(df_edit_spells_complete, title='Edit Protections to Articles (No Indefinite Protections)', exclude_infinity=True, filename='all_noindef')"
   ]
  },
  {
   "cell_type": "code",
   "execution_count": 320,
   "metadata": {},
   "outputs": [
    {
     "data": {
      "image/png": "[encoded data removed]",
      "text/plain": [
       "<Figure size 720x360 with 2 Axes>"
      ]
     },
     "metadata": {
      "needs_background": "light"
     },
     "output_type": "display_data"
    }
   ],
   "source": [
    "df_edit_spells_all, df_prot_survival_all = compute_duration_dfs(df_spells)\n",
    "df_hist = compute_cdf_and_plot(df_edit_spells_all, title='Page Protection Spells (Only First Article Protections, No Indefinite Protections)', exclude_infinity=True, filename='first_noindef')"
   ]
  },
  {
   "cell_type": "markdown",
   "metadata": {},
   "source": [
    "# Requests for Page Protections"
   ]
  },
  {
   "cell_type": "code",
   "execution_count": 144,
   "metadata": {},
   "outputs": [],
   "source": [
    "from scripts.preprocessing import load_rfpp, filter_valid_rfpps\n",
    "from scripts.descriptive import plot_rfpp"
   ]
  },
  {
   "cell_type": "code",
   "execution_count": 145,
   "metadata": {},
   "outputs": [
    {
     "name": "stdout",
     "output_type": "stream",
     "text": [
      "Overall parsed 166227\n",
      "Removed Unprotection requests (3000), remaining: 163227\n",
      "Removed misused templates (195), remaining: 163032\n",
      "Removed failed parsing (3095), remaining: 159937\n",
      "Removed Comments, questions, or notes (2748), remaining: 157189\n",
      "Removed non-articles (10089), remaining: 147100\n",
      "Dropped duplicates 5571\n",
      "141529 Requests for Protection with 147100 decisions (dropped 24698 requests)\n"
     ]
    }
   ],
   "source": [
    "df_rfpp = load_rfpp(rfpp_path='data/requests/page_results.csv.zip')"
   ]
  },
  {
   "cell_type": "code",
   "execution_count": 150,
   "metadata": {},
   "outputs": [
    {
     "name": "stdout",
     "output_type": "stream",
     "text": [
      "Remove requests (and decisions) for same article with duplicate request days AND decision days. 6794\n",
      "Removed Move/Salt/Create requests (4255), remaining: 134892\n",
      "(134892, 145941, 127098)\n",
      "Removed Pending Changes requests (7794), remaining: 127098\n"
     ]
    },
    {
     "name": "stderr",
     "output_type": "stream",
     "text": [
      "/opt/conda/lib/python3.7/site-packages/pandas/util/_decorators.py:311: SettingWithCopyWarning: \n",
      "A value is trying to be set on a copy of a slice from a DataFrame\n",
      "\n",
      "See the caveats in the documentation: https://pandas.pydata.org/pandas-docs/stable/user_guide/indexing.html#returning-a-view-versus-a-copy\n",
      "  return func(*args, **kwargs)\n"
     ]
    }
   ],
   "source": [
    "df_rfpp_rel, df_rfpp_with_pending_changes = filter_valid_rfpps(df_rfpp.copy())\n"
   ]
  },
  {
   "cell_type": "code",
   "execution_count": 382,
   "metadata": {},
   "outputs": [
    {
     "name": "stdout",
     "output_type": "stream",
     "text": [
      "Excluding pending changes\n"
     ]
    },
    {
     "data": {
      "text/html": [
       "<div>\n",
       "<style scoped>\n",
       "    .dataframe tbody tr th:only-of-type {\n",
       "        vertical-align: middle;\n",
       "    }\n",
       "\n",
       "    .dataframe tbody tr th {\n",
       "        vertical-align: top;\n",
       "    }\n",
       "\n",
       "    .dataframe thead th {\n",
       "        text-align: right;\n",
       "    }\n",
       "</style>\n",
       "<table border=\"1\" class=\"dataframe\">\n",
       "  <thead>\n",
       "    <tr style=\"text-align: right;\">\n",
       "      <th></th>\n",
       "      <th>Status</th>\n",
       "      <th>Status</th>\n",
       "    </tr>\n",
       "  </thead>\n",
       "  <tbody>\n",
       "    <tr>\n",
       "      <th>Protected</th>\n",
       "      <td>83487</td>\n",
       "      <td>0.656871</td>\n",
       "    </tr>\n",
       "    <tr>\n",
       "      <th>Declined</th>\n",
       "      <td>25718</td>\n",
       "      <td>0.202348</td>\n",
       "    </tr>\n",
       "    <tr>\n",
       "      <th>UserIssue</th>\n",
       "      <td>8169</td>\n",
       "      <td>0.064273</td>\n",
       "    </tr>\n",
       "    <tr>\n",
       "      <th>Existing</th>\n",
       "      <td>8096</td>\n",
       "      <td>0.063699</td>\n",
       "    </tr>\n",
       "    <tr>\n",
       "      <th>Other</th>\n",
       "      <td>1628</td>\n",
       "      <td>0.012809</td>\n",
       "    </tr>\n",
       "  </tbody>\n",
       "</table>\n",
       "</div>"
      ],
      "text/plain": [
       "           Status    Status\n",
       "Protected   83487  0.656871\n",
       "Declined    25718  0.202348\n",
       "UserIssue    8169  0.064273\n",
       "Existing     8096  0.063699\n",
       "Other        1628  0.012809"
      ]
     },
     "execution_count": 382,
     "metadata": {},
     "output_type": "execute_result"
    }
   ],
   "source": [
    "print('Excluding pending changes')\n",
    "\n",
    "pd.concat([df_rfpp_rel.Status.value_counts(),\n",
    "    (df_rfpp_rel.Status.value_counts() / len(df_rfpp_rel))], axis=1)"
   ]
  },
  {
   "cell_type": "code",
   "execution_count": 149,
   "metadata": {},
   "outputs": [
    {
     "data": {
      "image/png": "[encoded data removed]",
      "text/plain": [
       "<Figure size 576x144 with 1 Axes>"
      ]
     },
     "metadata": {
      "needs_background": "light"
     },
     "output_type": "display_data"
    }
   ],
   "source": [
    "plot_rfpp(df_rfpp_with_pending_changes.copy(), filename=None)"
   ]
  },
  {
   "cell_type": "code",
   "execution_count": 378,
   "metadata": {},
   "outputs": [
    {
     "data": {
      "image/png": "[encoded data removed]",
      "text/plain": [
       "<Figure size 576x144 with 1 Axes>"
      ]
     },
     "metadata": {
      "needs_background": "light"
     },
     "output_type": "display_data"
    }
   ],
   "source": [
    "plot_rfpp(df_rfpp_rel.copy())"
   ]
  },
  {
   "cell_type": "code",
   "execution_count": 383,
   "metadata": {},
   "outputs": [
    {
     "data": {
      "text/plain": [
       "norm_title               request_timestamp\n",
       "\"Hello,_World!\"_program  2022-03-06           1\n",
       "Nintendo_Direct          2020-03-10           1\n",
       "Nintendo_DSi             2013-09-28           1\n",
       "Nintendo_2DS             2013-08-29           1\n",
       "Nintendo                 2014-08-18           1\n",
       "                                             ..\n",
       "Earth_Day                2013-04-25           2\n",
       "John_Lennon              2014-03-23           2\n",
       "MacKenzie_Bezos          2019-01-09           2\n",
       "Emanuel_Moravec          2019-12-09           2\n",
       "Braun_Strowman           2019-08-23           2\n",
       "Length: 126888, dtype: int64"
      ]
     },
     "execution_count": 383,
     "metadata": {},
     "output_type": "execute_result"
    }
   ],
   "source": [
    "df_rfpp_rel.groupby(['norm_title', df_rfpp_rel.request_timestamp.dt.date]).size().sort_values()"
   ]
  },
  {
   "cell_type": "markdown",
   "metadata": {},
   "source": [
    "# Matching RfPP to PP"
   ]
  },
  {
   "cell_type": "code",
   "execution_count": 387,
   "metadata": {},
   "outputs": [],
   "source": [
    "from scripts.preprocessing import merge_protected_to_accepted, build_treatment_and_control_groups"
   ]
  },
  {
   "cell_type": "code",
   "execution_count": 388,
   "metadata": {},
   "outputs": [],
   "source": [
    "df_rfpp_inv = df_rfpp_rel[df_rfpp_rel.Status.isin(['Protected', 'Declined', 'UserIssue'])].copy()\n",
    "df_rfpp_inv['request_timestamp_date'] = df_rfpp_inv.request_timestamp.dt.date"
   ]
  },
  {
   "cell_type": "code",
   "execution_count": 395,
   "metadata": {},
   "outputs": [
    {
     "name": "stdout",
     "output_type": "stream",
     "text": [
      "88239\n"
     ]
    }
   ],
   "source": [
    "df_spells_rel = df_spells[(df_spells.start >= df_rfpp_rel.decision_ts.min())].copy()\n",
    "print(len(df_spells_rel))"
   ]
  },
  {
   "cell_type": "code",
   "execution_count": 390,
   "metadata": {},
   "outputs": [
    {
     "name": "stdout",
     "output_type": "stream",
     "text": [
      "Protection spells: 83487\n",
      "====== Check if original spell dataset makes sense\n",
      "Matched 40.23% of spells to accepted requests(81644/202923)\n",
      "Matched 96.85% of accepted requests to spells(80857/83487)\n",
      "#### the \"spells to accepted requests\" should be very high\n",
      "Matched 38.99% of spells to accepted requests(34401/88239)\n",
      "Matched 41.24% of accepted requests to spells(34426/83487)\n"
     ]
    }
   ],
   "source": [
    "# only consider requests that have not been protected before\n",
    "\n",
    "df_all_spells_for_stats = df_all_spells[(df_all_spells.start >= df_rfpp_rel.decision_ts.min())].sort_values('start')\n",
    "\n",
    "merge_column_rfpp = 'decision_ts'\n",
    "\n",
    "df_rfpp_accepted = df_rfpp_rel.query(\"Status == 'Protected'\").sort_values(merge_column_rfpp)\n",
    "print(f'Protection spells: {len(df_rfpp_accepted)}')\n",
    "\n",
    "# check if we can find spells for all requests and vice versa?\n",
    "# note the \"df_all_spells\" here\n",
    "print('====== Check if original spell dataset makes sense')\n",
    "# to be fair, we have to exclude\n",
    "merge_protected_to_accepted(df_all_spells_for_stats, df_rfpp_accepted)\n",
    "# basically, the top number for how many enforced spells we find requests\n",
    "# ... and the number below, for how many accepted requests we find enforced spells\n",
    "print('#### the \"spells to accepted requests\" should be very high')\n",
    "\n",
    "df_spells_to_rfpp, df_rfpp_to_spells, df_dropped_spells, df_dropped_rfpp = merge_protected_to_accepted(df_spells_rel, df_rfpp_accepted)\n",
    "# these numbers tell us that 32% of requests are for first protections. which checks out, as basically a third of spells is enforced as first protections"
   ]
  },
  {
   "cell_type": "code",
   "execution_count": 399,
   "metadata": {},
   "outputs": [],
   "source": [
    "# now, build actual treatment and control groups\n",
    "df_spell_protected, df_rfpp_accepted, df_rfpp_declined, df_rfpp_userint = build_treatment_and_control_groups(df_rfpp_rel, df_rfpp_to_spells, df_dropped_spells)"
   ]
  },
  {
   "cell_type": "code",
   "execution_count": 397,
   "metadata": {},
   "outputs": [],
   "source": [
    "# declined pages not protected within 90 days after. "
   ]
  },
  {
   "cell_type": "code",
   "execution_count": 200,
   "metadata": {},
   "outputs": [
    {
     "name": "stdout",
     "output_type": "stream",
     "text": [
      "FIRST protections that were requested by users and enforced: 34426\n",
      "FIRST protections enforced WITHOUT user request: 53838\n",
      "Protections that were requested by users and declined: 25718\n",
      "==> First Protections that were requested by users and declined: 14275\n"
     ]
    },
    {
     "data": {
      "image/png": "[encoded data removed]",
      "text/plain": [
       "<Figure size 432x288 with 1 Axes>"
      ]
     },
     "metadata": {
      "needs_background": "light"
     },
     "output_type": "display_data"
    }
   ],
   "source": [
    "import matplotlib.pyplot as plt\n",
    "fig, ax = plt.subplots()\n",
    "df_spell_protected.start.dt.date.hist(bins=100, ax=ax, label='First Spell WITHOUT RfPP', alpha=0.75) # first protections\n",
    "df_rfpp_accepted.request_timestamp.dt.date.hist(bins=100, ax=ax, label='First Spell WITH RfPP', alpha=0.75)\n",
    "df_rfpp_declined.request_timestamp.dt.date.hist(bins=100, ax=ax, label='RfPP Declined', alpha=0.75)\n",
    "#df_rfpp_declined_np.request_timestamp.dt.date.hist(bins=100, ax=ax, label='First Spell Declined in RfPP', alpha=0.75)\n",
    "df_rfpp_userint.request_timestamp.dt.date.hist(bins=100, ax=ax, label='RfPP UserInt', alpha=0.75)\n",
    "#df_rfpp_userint_np.request_timestamp.dt.date.hist(bins=100, ax=ax, label='First UserInt in RfPP', alpha=0.75)\n",
    "ax.legend()\n",
    "print(f'FIRST protections that were requested by users and enforced: {len(df_rfpp_accepted)}')\n",
    "print(f'FIRST protections enforced WITHOUT user request: {len(df_spell_protected)}')\n",
    "\n",
    "# this is not only first protections!!!! double check here\n",
    "print(f'Protections that were requested by users and declined: {len(df_rfpp_declined)}')\n",
    "print(f'==> First Protections that were requested by users and declined: {len(df_rfpp_declined_np)}')"
   ]
  },
  {
   "cell_type": "code",
   "execution_count": 202,
   "metadata": {},
   "outputs": [],
   "source": [
    "df_matched_rfpp_firstprot = pd.concat([df_spell_protected, df_rfpp_accepted, df_rfpp_declined_np, df_rfpp_userint_np]).reset_index(drop=True)\n",
    "df_matched_rfpp_firstprot['treated_id'] = df_matched_rfpp_firstprot.index.values\n",
    "df_matched_rfpp_firstprot.to_csv('data/experiment-writing/df_candidate_articles.csv', index=False)"
   ]
  },
  {
   "cell_type": "code",
   "execution_count": 401,
   "metadata": {},
   "outputs": [
    {
     "data": {
      "text/html": [
       "<div>\n",
       "<style scoped>\n",
       "    .dataframe tbody tr th:only-of-type {\n",
       "        vertical-align: middle;\n",
       "    }\n",
       "\n",
       "    .dataframe tbody tr th {\n",
       "        vertical-align: top;\n",
       "    }\n",
       "\n",
       "    .dataframe thead th {\n",
       "        text-align: right;\n",
       "    }\n",
       "</style>\n",
       "<table border=\"1\" class=\"dataframe\">\n",
       "  <thead>\n",
       "    <tr style=\"text-align: right;\">\n",
       "      <th></th>\n",
       "      <th>norm_title</th>\n",
       "      <th>level</th>\n",
       "      <th>start</th>\n",
       "      <th>end</th>\n",
       "      <th>type</th>\n",
       "      <th>request_timestamp</th>\n",
       "      <th>decision_ts</th>\n",
       "      <th>treated_id</th>\n",
       "    </tr>\n",
       "  </thead>\n",
       "  <tbody>\n",
       "    <tr>\n",
       "      <th>0</th>\n",
       "      <td>Little_Things_(One_Direction_song)</td>\n",
       "      <td>autoconfirmed</td>\n",
       "      <td>2012-10-29 08:23:13+00:00</td>\n",
       "      <td>2012-11-01 08:23:00+00:00</td>\n",
       "      <td>spell-not-requested</td>\n",
       "      <td>NaT</td>\n",
       "      <td>NaT</td>\n",
       "      <td>0</td>\n",
       "    </tr>\n",
       "    <tr>\n",
       "      <th>1</th>\n",
       "      <td>Live_While_We're_Young</td>\n",
       "      <td>autoconfirmed</td>\n",
       "      <td>2012-10-29 08:24:01+00:00</td>\n",
       "      <td>2012-11-01 08:24:00+00:00</td>\n",
       "      <td>spell-not-requested</td>\n",
       "      <td>NaT</td>\n",
       "      <td>NaT</td>\n",
       "      <td>1</td>\n",
       "    </tr>\n",
       "    <tr>\n",
       "      <th>2</th>\n",
       "      <td>Kaduthuruthy_Valiya_Palli</td>\n",
       "      <td>autoconfirmed</td>\n",
       "      <td>2012-10-29 08:59:24+00:00</td>\n",
       "      <td>2013-01-29 08:59:00+00:00</td>\n",
       "      <td>spell-not-requested</td>\n",
       "      <td>NaT</td>\n",
       "      <td>NaT</td>\n",
       "      <td>2</td>\n",
       "    </tr>\n",
       "    <tr>\n",
       "      <th>3</th>\n",
       "      <td>Quantum_chemistry</td>\n",
       "      <td>autoconfirmed</td>\n",
       "      <td>2012-10-29 13:07:17+00:00</td>\n",
       "      <td>2012-11-01 13:07:00+00:00</td>\n",
       "      <td>spell-not-requested</td>\n",
       "      <td>NaT</td>\n",
       "      <td>NaT</td>\n",
       "      <td>3</td>\n",
       "    </tr>\n",
       "    <tr>\n",
       "      <th>4</th>\n",
       "      <td>Tobuscus</td>\n",
       "      <td>sysop</td>\n",
       "      <td>2012-10-29 14:21:20+00:00</td>\n",
       "      <td>2012-11-03 08:26:03+00:00</td>\n",
       "      <td>spell-not-requested</td>\n",
       "      <td>NaT</td>\n",
       "      <td>NaT</td>\n",
       "      <td>4</td>\n",
       "    </tr>\n",
       "    <tr>\n",
       "      <th>...</th>\n",
       "      <td>...</td>\n",
       "      <td>...</td>\n",
       "      <td>...</td>\n",
       "      <td>...</td>\n",
       "      <td>...</td>\n",
       "      <td>...</td>\n",
       "      <td>...</td>\n",
       "      <td>...</td>\n",
       "    </tr>\n",
       "    <tr>\n",
       "      <th>107114</th>\n",
       "      <td>Liberal_Judaism</td>\n",
       "      <td>NaN</td>\n",
       "      <td>NaT</td>\n",
       "      <td>NaT</td>\n",
       "      <td>rfpp-userint</td>\n",
       "      <td>2012-11-10 13:51:00+00:00</td>\n",
       "      <td>2012-11-11 02:22:00+00:00</td>\n",
       "      <td>107114</td>\n",
       "    </tr>\n",
       "    <tr>\n",
       "      <th>107115</th>\n",
       "      <td>History_of_Armenia</td>\n",
       "      <td>NaN</td>\n",
       "      <td>NaT</td>\n",
       "      <td>NaT</td>\n",
       "      <td>rfpp-userint</td>\n",
       "      <td>2012-11-09 21:17:00+00:00</td>\n",
       "      <td>2012-11-10 11:29:00+00:00</td>\n",
       "      <td>107115</td>\n",
       "    </tr>\n",
       "    <tr>\n",
       "      <th>107116</th>\n",
       "      <td>Steamboats_of_the_Mississippi</td>\n",
       "      <td>NaN</td>\n",
       "      <td>NaT</td>\n",
       "      <td>NaT</td>\n",
       "      <td>rfpp-userint</td>\n",
       "      <td>2012-11-08 17:07:00+00:00</td>\n",
       "      <td>2012-11-08 18:55:00+00:00</td>\n",
       "      <td>107116</td>\n",
       "    </tr>\n",
       "    <tr>\n",
       "      <th>107117</th>\n",
       "      <td>MGM-52_Lance</td>\n",
       "      <td>NaN</td>\n",
       "      <td>NaT</td>\n",
       "      <td>NaT</td>\n",
       "      <td>rfpp-userint</td>\n",
       "      <td>2012-11-06 14:30:00+00:00</td>\n",
       "      <td>2012-11-06 15:04:00+00:00</td>\n",
       "      <td>107117</td>\n",
       "    </tr>\n",
       "    <tr>\n",
       "      <th>107118</th>\n",
       "      <td>MGM-52_Lance</td>\n",
       "      <td>NaN</td>\n",
       "      <td>NaT</td>\n",
       "      <td>NaT</td>\n",
       "      <td>rfpp-userint</td>\n",
       "      <td>2012-11-02 17:39:00+00:00</td>\n",
       "      <td>2012-11-02 18:35:00+00:00</td>\n",
       "      <td>107118</td>\n",
       "    </tr>\n",
       "  </tbody>\n",
       "</table>\n",
       "<p>107119 rows × 8 columns</p>\n",
       "</div>"
      ],
      "text/plain": [
       "                                norm_title          level  \\\n",
       "0       Little_Things_(One_Direction_song)  autoconfirmed   \n",
       "1                   Live_While_We're_Young  autoconfirmed   \n",
       "2                Kaduthuruthy_Valiya_Palli  autoconfirmed   \n",
       "3                        Quantum_chemistry  autoconfirmed   \n",
       "4                                 Tobuscus          sysop   \n",
       "...                                    ...            ...   \n",
       "107114                     Liberal_Judaism            NaN   \n",
       "107115                  History_of_Armenia            NaN   \n",
       "107116       Steamboats_of_the_Mississippi            NaN   \n",
       "107117                        MGM-52_Lance            NaN   \n",
       "107118                        MGM-52_Lance            NaN   \n",
       "\n",
       "                           start                       end  \\\n",
       "0      2012-10-29 08:23:13+00:00 2012-11-01 08:23:00+00:00   \n",
       "1      2012-10-29 08:24:01+00:00 2012-11-01 08:24:00+00:00   \n",
       "2      2012-10-29 08:59:24+00:00 2013-01-29 08:59:00+00:00   \n",
       "3      2012-10-29 13:07:17+00:00 2012-11-01 13:07:00+00:00   \n",
       "4      2012-10-29 14:21:20+00:00 2012-11-03 08:26:03+00:00   \n",
       "...                          ...                       ...   \n",
       "107114                       NaT                       NaT   \n",
       "107115                       NaT                       NaT   \n",
       "107116                       NaT                       NaT   \n",
       "107117                       NaT                       NaT   \n",
       "107118                       NaT                       NaT   \n",
       "\n",
       "                       type         request_timestamp  \\\n",
       "0       spell-not-requested                       NaT   \n",
       "1       spell-not-requested                       NaT   \n",
       "2       spell-not-requested                       NaT   \n",
       "3       spell-not-requested                       NaT   \n",
       "4       spell-not-requested                       NaT   \n",
       "...                     ...                       ...   \n",
       "107114         rfpp-userint 2012-11-10 13:51:00+00:00   \n",
       "107115         rfpp-userint 2012-11-09 21:17:00+00:00   \n",
       "107116         rfpp-userint 2012-11-08 17:07:00+00:00   \n",
       "107117         rfpp-userint 2012-11-06 14:30:00+00:00   \n",
       "107118         rfpp-userint 2012-11-02 17:39:00+00:00   \n",
       "\n",
       "                     decision_ts  treated_id  \n",
       "0                            NaT           0  \n",
       "1                            NaT           1  \n",
       "2                            NaT           2  \n",
       "3                            NaT           3  \n",
       "4                            NaT           4  \n",
       "...                          ...         ...  \n",
       "107114 2012-11-11 02:22:00+00:00      107114  \n",
       "107115 2012-11-10 11:29:00+00:00      107115  \n",
       "107116 2012-11-08 18:55:00+00:00      107116  \n",
       "107117 2012-11-06 15:04:00+00:00      107117  \n",
       "107118 2012-11-02 18:35:00+00:00      107118  \n",
       "\n",
       "[107119 rows x 8 columns]"
      ]
     },
     "execution_count": 401,
     "metadata": {},
     "output_type": "execute_result"
    }
   ],
   "source": [
    "df_matched_rfpp_firstprot"
   ]
  },
  {
   "cell_type": "code",
   "execution_count": 268,
   "metadata": {},
   "outputs": [],
   "source": [
    "df_matched_rfpp_firstprot.to_csv('data/experiment-writing/df_candidate_articles.csv', index=False)"
   ]
  },
  {
   "cell_type": "code",
   "execution_count": 228,
   "metadata": {},
   "outputs": [
    {
     "data": {
      "text/html": [
       "<div>\n",
       "<style scoped>\n",
       "    .dataframe tbody tr th:only-of-type {\n",
       "        vertical-align: middle;\n",
       "    }\n",
       "\n",
       "    .dataframe tbody tr th {\n",
       "        vertical-align: top;\n",
       "    }\n",
       "\n",
       "    .dataframe thead th {\n",
       "        text-align: right;\n",
       "    }\n",
       "</style>\n",
       "<table border=\"1\" class=\"dataframe\">\n",
       "  <thead>\n",
       "    <tr style=\"text-align: right;\">\n",
       "      <th></th>\n",
       "      <th>norm_title</th>\n",
       "      <th>level</th>\n",
       "      <th>start</th>\n",
       "      <th>end</th>\n",
       "      <th>type</th>\n",
       "      <th>request_timestamp</th>\n",
       "      <th>decision_ts</th>\n",
       "      <th>treated_id</th>\n",
       "    </tr>\n",
       "  </thead>\n",
       "  <tbody>\n",
       "    <tr>\n",
       "      <th>3325</th>\n",
       "      <td>Bad_Girls_Club_(season_1)</td>\n",
       "      <td>autoconfirmed</td>\n",
       "      <td>2013-06-17 21:59:07+00:00</td>\n",
       "      <td>2013-07-08 21:59:00+00:00</td>\n",
       "      <td>spell-not-requested</td>\n",
       "      <td>NaT</td>\n",
       "      <td>NaT</td>\n",
       "      <td>3325</td>\n",
       "    </tr>\n",
       "    <tr>\n",
       "      <th>101825</th>\n",
       "      <td>Bad_Girls_Club_(season_1)</td>\n",
       "      <td>NaN</td>\n",
       "      <td>NaT</td>\n",
       "      <td>NaT</td>\n",
       "      <td>rfpp-declined</td>\n",
       "      <td>2013-04-10 16:04:00+00:00</td>\n",
       "      <td>2013-04-10 17:23:00+00:00</td>\n",
       "      <td>101825</td>\n",
       "    </tr>\n",
       "    <tr>\n",
       "      <th>101884</th>\n",
       "      <td>Bad_Girls_Club_(season_1)</td>\n",
       "      <td>NaN</td>\n",
       "      <td>NaT</td>\n",
       "      <td>NaT</td>\n",
       "      <td>rfpp-declined</td>\n",
       "      <td>2013-04-01 23:28:00+00:00</td>\n",
       "      <td>2013-04-02 11:30:00+00:00</td>\n",
       "      <td>101884</td>\n",
       "    </tr>\n",
       "    <tr>\n",
       "      <th>102005</th>\n",
       "      <td>Bad_Girls_Club_(season_1)</td>\n",
       "      <td>NaN</td>\n",
       "      <td>NaT</td>\n",
       "      <td>NaT</td>\n",
       "      <td>rfpp-declined</td>\n",
       "      <td>2013-03-08 19:59:00+00:00</td>\n",
       "      <td>2013-03-08 22:49:00+00:00</td>\n",
       "      <td>102005</td>\n",
       "    </tr>\n",
       "    <tr>\n",
       "      <th>102184</th>\n",
       "      <td>Bad_Girls_Club_(season_1)</td>\n",
       "      <td>NaN</td>\n",
       "      <td>NaT</td>\n",
       "      <td>NaT</td>\n",
       "      <td>rfpp-declined</td>\n",
       "      <td>2013-01-19 21:42:00+00:00</td>\n",
       "      <td>2013-01-19 22:40:00+00:00</td>\n",
       "      <td>102184</td>\n",
       "    </tr>\n",
       "    <tr>\n",
       "      <th>102373</th>\n",
       "      <td>Bad_Girls_Club_(season_1)</td>\n",
       "      <td>NaN</td>\n",
       "      <td>NaT</td>\n",
       "      <td>NaT</td>\n",
       "      <td>rfpp-declined</td>\n",
       "      <td>2012-12-04 23:48:00+00:00</td>\n",
       "      <td>2012-12-05 18:53:00+00:00</td>\n",
       "      <td>102373</td>\n",
       "    </tr>\n",
       "    <tr>\n",
       "      <th>102418</th>\n",
       "      <td>Bad_Girls_Club_(season_1)</td>\n",
       "      <td>NaN</td>\n",
       "      <td>NaT</td>\n",
       "      <td>NaT</td>\n",
       "      <td>rfpp-declined</td>\n",
       "      <td>2012-11-25 14:21:00+00:00</td>\n",
       "      <td>2012-11-25 19:24:00+00:00</td>\n",
       "      <td>102418</td>\n",
       "    </tr>\n",
       "    <tr>\n",
       "      <th>102430</th>\n",
       "      <td>Bad_Girls_Club_(season_1)</td>\n",
       "      <td>NaN</td>\n",
       "      <td>NaT</td>\n",
       "      <td>NaT</td>\n",
       "      <td>rfpp-declined</td>\n",
       "      <td>2012-11-22 13:44:00+00:00</td>\n",
       "      <td>2012-11-22 15:58:00+00:00</td>\n",
       "      <td>102430</td>\n",
       "    </tr>\n",
       "  </tbody>\n",
       "</table>\n",
       "</div>"
      ],
      "text/plain": [
       "                       norm_title          level                     start  \\\n",
       "3325    Bad_Girls_Club_(season_1)  autoconfirmed 2013-06-17 21:59:07+00:00   \n",
       "101825  Bad_Girls_Club_(season_1)            NaN                       NaT   \n",
       "101884  Bad_Girls_Club_(season_1)            NaN                       NaT   \n",
       "102005  Bad_Girls_Club_(season_1)            NaN                       NaT   \n",
       "102184  Bad_Girls_Club_(season_1)            NaN                       NaT   \n",
       "102373  Bad_Girls_Club_(season_1)            NaN                       NaT   \n",
       "102418  Bad_Girls_Club_(season_1)            NaN                       NaT   \n",
       "102430  Bad_Girls_Club_(season_1)            NaN                       NaT   \n",
       "\n",
       "                             end                 type  \\\n",
       "3325   2013-07-08 21:59:00+00:00  spell-not-requested   \n",
       "101825                       NaT        rfpp-declined   \n",
       "101884                       NaT        rfpp-declined   \n",
       "102005                       NaT        rfpp-declined   \n",
       "102184                       NaT        rfpp-declined   \n",
       "102373                       NaT        rfpp-declined   \n",
       "102418                       NaT        rfpp-declined   \n",
       "102430                       NaT        rfpp-declined   \n",
       "\n",
       "               request_timestamp               decision_ts  treated_id  \n",
       "3325                         NaT                       NaT        3325  \n",
       "101825 2013-04-10 16:04:00+00:00 2013-04-10 17:23:00+00:00      101825  \n",
       "101884 2013-04-01 23:28:00+00:00 2013-04-02 11:30:00+00:00      101884  \n",
       "102005 2013-03-08 19:59:00+00:00 2013-03-08 22:49:00+00:00      102005  \n",
       "102184 2013-01-19 21:42:00+00:00 2013-01-19 22:40:00+00:00      102184  \n",
       "102373 2012-12-04 23:48:00+00:00 2012-12-05 18:53:00+00:00      102373  \n",
       "102418 2012-11-25 14:21:00+00:00 2012-11-25 19:24:00+00:00      102418  \n",
       "102430 2012-11-22 13:44:00+00:00 2012-11-22 15:58:00+00:00      102430  "
      ]
     },
     "execution_count": 228,
     "metadata": {},
     "output_type": "execute_result"
    }
   ],
   "source": [
    "df_matched_rfpp_firstprot[df_matched_rfpp_firstprot.norm_title == ('Bad_Girls_Club_(season_1)')]"
   ]
  },
  {
   "cell_type": "markdown",
   "metadata": {},
   "source": [
    "# Now, start preparing data by removing possible overlapping periods.\n",
    "... chose 90 days as \"forgetting\" a previous intervention existed, but still consider our predicate of not having previously protected pages!"
   ]
  },
  {
   "cell_type": "code",
   "execution_count": 210,
   "metadata": {},
   "outputs": [],
   "source": [
    "from scripts.preprocessing import filter_treatment_and_control_for_experiment"
   ]
  },
  {
   "cell_type": "code",
   "execution_count": 255,
   "metadata": {},
   "outputs": [
    {
     "name": "stdout",
     "output_type": "stream",
     "text": [
      "No Spells that had another intervention within 90D: 102843 (dropped 4276)\n",
      "Removed 3647 first spells < 1 Day of duration.\n"
     ]
    }
   ],
   "source": [
    "df_experimental_groups = filter_treatment_and_control_for_experiment(df_matched_rfpp_firstprot, df_all_spells)"
   ]
  },
  {
   "cell_type": "code",
   "execution_count": 272,
   "metadata": {},
   "outputs": [],
   "source": [
    "df_experimental_groups.to_csv('data/experiment-writing/df_experiment_articles.csv', index=False)"
   ]
  },
  {
   "cell_type": "code",
   "execution_count": 267,
   "metadata": {},
   "outputs": [
    {
     "data": {
      "text/html": [
       "<div>\n",
       "<style scoped>\n",
       "    .dataframe tbody tr th:only-of-type {\n",
       "        vertical-align: middle;\n",
       "    }\n",
       "\n",
       "    .dataframe tbody tr th {\n",
       "        vertical-align: top;\n",
       "    }\n",
       "\n",
       "    .dataframe thead th {\n",
       "        text-align: right;\n",
       "    }\n",
       "</style>\n",
       "<table border=\"1\" class=\"dataframe\">\n",
       "  <thead>\n",
       "    <tr style=\"text-align: right;\">\n",
       "      <th></th>\n",
       "      <th>norm_title</th>\n",
       "      <th>level</th>\n",
       "      <th>start</th>\n",
       "      <th>end</th>\n",
       "      <th>type</th>\n",
       "      <th>request_timestamp</th>\n",
       "      <th>decision_ts</th>\n",
       "      <th>treated_id</th>\n",
       "      <th>threshold_end_timestamp</th>\n",
       "      <th>threshold_start_timestamp</th>\n",
       "      <th>duration</th>\n",
       "    </tr>\n",
       "  </thead>\n",
       "  <tbody>\n",
       "    <tr>\n",
       "      <th>56413</th>\n",
       "      <td>Nita_Ambani</td>\n",
       "      <td>autoconfirmed</td>\n",
       "      <td>2020-03-07 13:23:58+00:00</td>\n",
       "      <td>2020-06-07 13:23:00+00:00</td>\n",
       "      <td>spell-not-requested</td>\n",
       "      <td>NaT</td>\n",
       "      <td>NaT</td>\n",
       "      <td>39650</td>\n",
       "      <td>2020-06-07 13:23:00+00:00</td>\n",
       "      <td>2020-03-07 13:23:58+00:00</td>\n",
       "      <td>91 days 23:59:02</td>\n",
       "    </tr>\n",
       "    <tr>\n",
       "      <th>9634</th>\n",
       "      <td>Nita_Ambani</td>\n",
       "      <td>NaN</td>\n",
       "      <td>NaT</td>\n",
       "      <td>NaT</td>\n",
       "      <td>rfpp-declined</td>\n",
       "      <td>2017-09-06 11:29:00+00:00</td>\n",
       "      <td>2017-09-06 13:32:00+00:00</td>\n",
       "      <td>95935</td>\n",
       "      <td>2017-09-06 11:29:00+00:00</td>\n",
       "      <td>2017-09-06 11:29:00+00:00</td>\n",
       "      <td>NaT</td>\n",
       "    </tr>\n",
       "    <tr>\n",
       "      <th>9635</th>\n",
       "      <td>Nita_Ambani</td>\n",
       "      <td>NaN</td>\n",
       "      <td>NaT</td>\n",
       "      <td>NaT</td>\n",
       "      <td>rfpp-declined</td>\n",
       "      <td>2018-08-23 06:46:00+00:00</td>\n",
       "      <td>2018-08-23 08:29:00+00:00</td>\n",
       "      <td>94911</td>\n",
       "      <td>2018-08-23 06:46:00+00:00</td>\n",
       "      <td>2018-08-23 06:46:00+00:00</td>\n",
       "      <td>NaT</td>\n",
       "    </tr>\n",
       "    <tr>\n",
       "      <th>9636</th>\n",
       "      <td>Nita_Ambani</td>\n",
       "      <td>NaN</td>\n",
       "      <td>NaT</td>\n",
       "      <td>NaT</td>\n",
       "      <td>rfpp-declined</td>\n",
       "      <td>2019-03-29 09:49:00+00:00</td>\n",
       "      <td>2019-03-29 10:12:00+00:00</td>\n",
       "      <td>94235</td>\n",
       "      <td>2019-03-29 09:49:00+00:00</td>\n",
       "      <td>2019-03-29 09:49:00+00:00</td>\n",
       "      <td>NaT</td>\n",
       "    </tr>\n",
       "  </tbody>\n",
       "</table>\n",
       "</div>"
      ],
      "text/plain": [
       "        norm_title          level                     start  \\\n",
       "56413  Nita_Ambani  autoconfirmed 2020-03-07 13:23:58+00:00   \n",
       "9634   Nita_Ambani            NaN                       NaT   \n",
       "9635   Nita_Ambani            NaN                       NaT   \n",
       "9636   Nita_Ambani            NaN                       NaT   \n",
       "\n",
       "                            end                 type  \\\n",
       "56413 2020-06-07 13:23:00+00:00  spell-not-requested   \n",
       "9634                        NaT        rfpp-declined   \n",
       "9635                        NaT        rfpp-declined   \n",
       "9636                        NaT        rfpp-declined   \n",
       "\n",
       "              request_timestamp               decision_ts  treated_id  \\\n",
       "56413                       NaT                       NaT       39650   \n",
       "9634  2017-09-06 11:29:00+00:00 2017-09-06 13:32:00+00:00       95935   \n",
       "9635  2018-08-23 06:46:00+00:00 2018-08-23 08:29:00+00:00       94911   \n",
       "9636  2019-03-29 09:49:00+00:00 2019-03-29 10:12:00+00:00       94235   \n",
       "\n",
       "        threshold_end_timestamp threshold_start_timestamp         duration  \n",
       "56413 2020-06-07 13:23:00+00:00 2020-03-07 13:23:58+00:00 91 days 23:59:02  \n",
       "9634  2017-09-06 11:29:00+00:00 2017-09-06 11:29:00+00:00              NaT  \n",
       "9635  2018-08-23 06:46:00+00:00 2018-08-23 06:46:00+00:00              NaT  \n",
       "9636  2019-03-29 09:49:00+00:00 2019-03-29 09:49:00+00:00              NaT  "
      ]
     },
     "execution_count": 267,
     "metadata": {},
     "output_type": "execute_result"
    }
   ],
   "source": [
    "df_experimental_groups[df_experimental_groups.norm_title == 'Nita_Ambani']"
   ]
  },
  {
   "cell_type": "code",
   "execution_count": 281,
   "metadata": {},
   "outputs": [
    {
     "data": {
      "image/png": "[encoded data removed]",
      "text/plain": [
       "<Figure size 576x144 with 1 Axes>"
      ]
     },
     "metadata": {
      "needs_background": "light"
     },
     "output_type": "display_data"
    }
   ],
   "source": [
    "plot_rfpp(df_experimental_groups.dropna(subset=['Status']).copy())"
   ]
  },
  {
   "cell_type": "code",
   "execution_count": 279,
   "metadata": {},
   "outputs": [
    {
     "data": {
      "image/png": "[encoded data removed]",
      "text/plain": [
       "<Figure size 576x144 with 1 Axes>"
      ]
     },
     "metadata": {
      "needs_background": "light"
     },
     "output_type": "display_data"
    }
   ],
   "source": [
    "plot_rfpp(df_rfpp_with_pending_changes.dropna(subset=['Status']))"
   ]
  }
 ],
 "metadata": {
  "kernelspec": {
   "display_name": "Python 3",
   "language": "python",
   "name": "python3"
  },
  "language_info": {
   "codemirror_mode": {
    "name": "ipython",
    "version": 3
   },
   "file_extension": ".py",
   "mimetype": "text/x-python",
   "name": "python",
   "nbconvert_exporter": "python",
   "pygments_lexer": "ipython3",
   "version": "3.7.12"
  }
 },
 "nbformat": 4,
 "nbformat_minor": 4
}
